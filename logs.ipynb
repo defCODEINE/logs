{
  "nbformat": 4,
  "nbformat_minor": 0,
  "metadata": {
    "colab": {
      "provenance": [],
      "collapsed_sections": [
        "WO-djlOj8vMh",
        "mlABrzF0AyLt",
        "27L5hIEoFo6j",
        "3Ei-ly1EGYoy",
        "kMey2jHXK_WU",
        "tqNLKj40FtMC",
        "y7UnO_mKuywt",
        "HbObEBypMWxg",
        "oskSxCTUMcv5",
        "6Fn1Zi9nT8hY"
      ]
    },
    "kernelspec": {
      "name": "python3",
      "display_name": "Python 3"
    },
    "language_info": {
      "name": "python"
    }
  },
  "cells": [
    {
      "cell_type": "markdown",
      "source": [
        "# Подключение библиотек"
      ],
      "metadata": {
        "id": "Lwvd25U_8rue"
      }
    },
    {
      "cell_type": "code",
      "execution_count": null,
      "metadata": {
        "id": "hf2BGUIh790M"
      },
      "outputs": [],
      "source": [
        "import pandas as pd\n",
        "import matplotlib.pyplot as plt\n",
        "import seaborn as sns\n",
        "import numpy as np\n",
        "import random\n",
        "from sklearn.preprocessing import LabelEncoder\n",
        "from sklearn.preprocessing import StandardScaler\n",
        "from sklearn.ensemble import IsolationForest\n",
        "from sklearn.metrics import silhouette_score\n",
        "import re\n",
        "import chardet\n",
        "import codecs\n",
        "import pickle"
      ]
    },
    {
      "cell_type": "code",
      "source": [
        "from sklearn.cluster import DBSCAN\n",
        "from sklearn.cluster import KMeans\n",
        "from sklearn.model_selection import train_test_split\n",
        "from sklearn.linear_model import LogisticRegression\n",
        "from sklearn.metrics import confusion_matrix, classification_report, accuracy_score\n",
        "from sklearn.metrics import precision_score, recall_score, f1_score, roc_auc_score,log_loss\n",
        "from sklearn.utils.class_weight import compute_class_weight\n",
        "import xgboost as xgb\n",
        "from sklearn.metrics import mean_squared_error\n",
        "from sklearn.neighbors import KNeighborsClassifier\n",
        "from sklearn.ensemble import RandomForestClassifier\n",
        "from sklearn.model_selection import GridSearchCV\n",
        "from sklearn.model_selection import cross_val_score\n",
        "from sklearn.svm import SVC\n",
        "import tensorflow as tf\n",
        "from tensorflow.keras.preprocessing.sequence import pad_sequences\n",
        "from tensorflow.keras.models import Sequential, Model\n",
        "from tensorflow.keras.layers import Dense, LSTM, GRU, Embedding, Bidirectional,Dropout,TimeDistributed,Activation,BatchNormalization"
      ],
      "metadata": {
        "id": "R2rFjF2XmoqS"
      },
      "execution_count": null,
      "outputs": []
    },
    {
      "cell_type": "code",
      "source": [
        "from google.colab import files\n",
        "from google.colab import drive\n",
        "drive.mount('/content/drive')"
      ],
      "metadata": {
        "colab": {
          "base_uri": "https://localhost:8080/"
        },
        "id": "4-AdkoXF7_VB",
        "outputId": "4ade2541-935a-48bd-c94c-72820648dfd6"
      },
      "execution_count": null,
      "outputs": [
        {
          "output_type": "stream",
          "name": "stdout",
          "text": [
            "Mounted at /content/drive\n"
          ]
        }
      ]
    },
    {
      "cell_type": "code",
      "source": [
        "DIR='/content/drive/MyDrive/Тест/'"
      ],
      "metadata": {
        "id": "4XjTf5Vh8G7u"
      },
      "execution_count": null,
      "outputs": []
    },
    {
      "cell_type": "markdown",
      "source": [
        "# Анализ базы"
      ],
      "metadata": {
        "id": "WO-djlOj8vMh"
      }
    },
    {
      "cell_type": "code",
      "source": [
        "work_base=pd.read_csv(DIR+'part_10.csv')"
      ],
      "metadata": {
        "id": "g7QTaWrw8V-k"
      },
      "execution_count": null,
      "outputs": []
    },
    {
      "cell_type": "code",
      "source": [
        "print(work_base.info())"
      ],
      "metadata": {
        "colab": {
          "base_uri": "https://localhost:8080/"
        },
        "id": "N61gNHxO8oG5",
        "outputId": "d99a9588-4862-4568-efd4-0058ebac150d"
      },
      "execution_count": null,
      "outputs": [
        {
          "output_type": "stream",
          "name": "stdout",
          "text": [
            "<class 'pandas.core.frame.DataFrame'>\n",
            "RangeIndex: 57845 entries, 0 to 57844\n",
            "Data columns (total 8 columns):\n",
            " #   Column                  Non-Null Count  Dtype \n",
            "---  ------                  --------------  ----- \n",
            " 0   CLIENT_IP               57838 non-null  object\n",
            " 1   CLIENT_USERAGENT        57517 non-null  object\n",
            " 2   REQUEST_SIZE            57794 non-null  object\n",
            " 3   RESPONSE_CODE           57770 non-null  object\n",
            " 4   MATCHED_VARIABLE_SRC    57730 non-null  object\n",
            " 5   MATCHED_VARIABLE_NAME   53167 non-null  object\n",
            " 6   MATCHED_VARIABLE_VALUE  57683 non-null  object\n",
            " 7   EVENT_ID                57666 non-null  object\n",
            "dtypes: object(8)\n",
            "memory usage: 3.5+ MB\n",
            "None\n"
          ]
        }
      ]
    },
    {
      "cell_type": "code",
      "source": [
        "work_base.fillna(\"Unknown\", inplace=True)"
      ],
      "metadata": {
        "id": "ZgWoCiKeV0AH"
      },
      "execution_count": null,
      "outputs": []
    },
    {
      "cell_type": "code",
      "source": [
        "def get_encoding(value):\n",
        "    try:\n",
        "        result = chardet.detect(value.encode())\n",
        "        if result['confidence'] >= 0.5:\n",
        "            return result['encoding']\n",
        "        else:\n",
        "            return \"неизвестная кодировка\"\n",
        "    except:\n",
        "        return \"неизвестная кодировка\"\n",
        "\n",
        "work_base['CLIENT_ID_encoding'] =work_base['CLIENT_IP'].apply(get_encoding)"
      ],
      "metadata": {
        "id": "9ld4M67qUJwV"
      },
      "execution_count": null,
      "outputs": []
    },
    {
      "cell_type": "code",
      "source": [
        "categories = [\n",
        "    {'name': 'IP Address', 'regex': r'\\b(?:25[0-5]|2[0-4][0-9]|[01]?[0-9][0-9]?)\\.(?:25[0-5]|2[0-4][0-9]|[01]?[0-9][0-9]?)\\.(?:25[0-5]|2[0-4][0-9]|[01]?[0-9][0-9]?)\\.(?:25[0-5]|2[0-4][0-9]|[01]?[0-9][0-9]?)\\b'},\n",
        "    {'name': 'IPv6 Address', 'regex': r'^([0-9A-Fa-f]{1,4}:){7}[0-9A-Fa-f]{1,4}|((^|:)([0-9A-Fa-f]{0,4})){1,8}(:|$)'},\n",
        "    {'name': 'Remote Code Execution', 'regex': r'Remote Code Execution'},\n",
        "    {'name': 'SQL Injection', 'regex': r'SQL Injection'},\n",
        "    {'name': 'Cross-Site Scripting', 'regex': r'Cross-Site Scripting'},\n",
        "    {'name': 'SQL Injection User-Agent', 'regex': r'SQL Injection', 'column': 'CLIENT_USERAGENT'},\n",
        "    {'name': 'Cross-Site Scripting User-Agent', 'regex': r'Cross-Site Scripting', 'column': 'CLIENT_USERAGENT'}]\n",
        "\n",
        "clean_data = work_base\n",
        "for cat in categories:\n",
        "    regex = cat['regex']\n",
        "    column = cat.get('column', 'CLIENT_IP')\n",
        "    name = cat['name']\n",
        "    regex_mask = clean_data[column].str.contains(regex, regex=True)\n",
        "    matched_data = clean_data[regex_mask]\n",
        "    unmatched_data = clean_data[~regex_mask]\n",
        "    clean_data = unmatched_data\n",
        "    if name == categories[0]['name']:\n",
        "        result_df = matched_data\n",
        "    else:\n",
        "        result_df = pd.merge(result_df, matched_data, how='outer')"
      ],
      "metadata": {
        "colab": {
          "base_uri": "https://localhost:8080/"
        },
        "id": "wmqJClv_PHBT",
        "outputId": "c4d3b52a-3538-4b4c-ab8a-0efb4694eba3"
      },
      "execution_count": null,
      "outputs": [
        {
          "output_type": "stream",
          "name": "stderr",
          "text": [
            "<ipython-input-12-920b6b4132c9>:15: UserWarning: This pattern is interpreted as a regular expression, and has match groups. To actually get the groups, use str.extract.\n",
            "  regex_mask = clean_data[column].str.contains(regex, regex=True)\n"
          ]
        }
      ]
    },
    {
      "cell_type": "code",
      "source": [
        "result_df.reset_index(drop= True , inplace= True )"
      ],
      "metadata": {
        "id": "qX-bhOCNcUtU"
      },
      "execution_count": null,
      "outputs": []
    },
    {
      "cell_type": "code",
      "source": [
        "clean_data_n=clean_data[clean_data['CLIENT_IP']!='Unknown']\n",
        "clean_data_n[\"CLIENT_IP\"].value_counts().loc[lambda x: x > 2]"
      ],
      "metadata": {
        "colab": {
          "base_uri": "https://localhost:8080/"
        },
        "id": "9c0ZP2XG-4Q-",
        "outputId": "a26d91a1-99f9-4e36-fd13-4130c4bc83af"
      },
      "execution_count": null,
      "outputs": [
        {
          "output_type": "execute_result",
          "data": {
            "text/plain": [
              "f~|°ØÀ\u0001¶\n",
              "g8%ú·P:V­    5\n",
              "Name: CLIENT_IP, dtype: int64"
            ]
          },
          "metadata": {},
          "execution_count": 14
        }
      ]
    },
    {
      "cell_type": "code",
      "source": [
        "print(result_df.describe())"
      ],
      "metadata": {
        "colab": {
          "base_uri": "https://localhost:8080/"
        },
        "id": "tCL9fhhP9AH3",
        "outputId": "f0fe5de3-d720-4f45-fbd3-43e8e3326173"
      },
      "execution_count": null,
      "outputs": [
        {
          "output_type": "stream",
          "name": "stdout",
          "text": [
            "             CLIENT_IP                                   CLIENT_USERAGENT  \\\n",
            "count            57794                                              57794   \n",
            "unique           24902                                               6976   \n",
            "top     217.175.140.69  Mozilla/5.0 (Windows NT 6.1; WOW64; Trident/7....   \n",
            "freq             11286                                               2117   \n",
            "\n",
            "       REQUEST_SIZE RESPONSE_CODE MATCHED_VARIABLE_SRC MATCHED_VARIABLE_NAME  \\\n",
            "count         57794         57794                57794                 57794   \n",
            "unique         5758            61                   22                  3210   \n",
            "top             259           200     REQUEST_GET_ARGS    REQUEST_GET_ARGS._   \n",
            "freq            261         25771                20812                 11165   \n",
            "\n",
            "       MATCHED_VARIABLE_VALUE EVENT_ID CLIENT_ID_encoding  \n",
            "count                   57794    57794              57794  \n",
            "unique                  57612    54411                  5  \n",
            "top                   Unknown  Unknown              ascii  \n",
            "freq                      111      128              57754  \n"
          ]
        }
      ]
    },
    {
      "cell_type": "code",
      "source": [
        "plt.hist(result_df[\"REQUEST_SIZE\"].value_counts(),bins=15, color='blue', edgecolor='black')\n",
        "plt.xlabel('Значение переменной')\n",
        "plt.ylabel('Частота')\n",
        "plt.title('Распределение значений размера')\n",
        "plt.show()"
      ],
      "metadata": {
        "colab": {
          "base_uri": "https://localhost:8080/",
          "height": 472
        },
        "id": "_fWxG1S_9LDO",
        "outputId": "2e493570-52ab-4d4d-8e49-9e259c4fa95e"
      },
      "execution_count": null,
      "outputs": [
        {
          "output_type": "display_data",
          "data": {
            "text/plain": [
              "<Figure size 640x480 with 1 Axes>"
            ],
            "image/png": "[encoded data removed]"
          },
          "metadata": {}
        }
      ]
    },
    {
      "cell_type": "code",
      "source": [
        "plt.hist(result_df[\"CLIENT_IP\"].value_counts().loc[lambda x: x > 100],bins=3, color='blue', edgecolor='black')\n",
        "plt.xlabel('Значение переменной')\n",
        "plt.ylabel('Частота')\n",
        "plt.title('Распределение значений IP клиентов, обращавшихся к серверу > 100 раз')\n",
        "plt.show()"
      ],
      "metadata": {
        "colab": {
          "base_uri": "https://localhost:8080/",
          "height": 472
        },
        "id": "n3BWvYD-u5eT",
        "outputId": "a58972ac-e51f-4c33-c23d-8f059e3f90d9"
      },
      "execution_count": null,
      "outputs": [
        {
          "output_type": "display_data",
          "data": {
            "text/plain": [
              "<Figure size 640x480 with 1 Axes>"
            ],
            "image/png": "[encoded data removed]"
          },
          "metadata": {}
        }
      ]
    },
    {
      "cell_type": "code",
      "source": [
        "print(\"Таблица частот IP клиентов\")\n",
        "result_df[\"CLIENT_IP\"].value_counts()"
      ],
      "metadata": {
        "colab": {
          "base_uri": "https://localhost:8080/"
        },
        "id": "3msweZxcvn3X",
        "outputId": "07a3488f-cfd7-48db-bfce-8357fc4d67d8"
      },
      "execution_count": null,
      "outputs": [
        {
          "output_type": "stream",
          "name": "stdout",
          "text": [
            "Таблица частот IP клиентов\n"
          ]
        },
        {
          "output_type": "execute_result",
          "data": {
            "text/plain": [
              "217.175.140.69                    11286\n",
              "37.46.129.136                       771\n",
              "188.43.52.163                       767\n",
              "5.143.231.38                        757\n",
              "192.168.100.63                      748\n",
              "                                  ...  \n",
              "185.23.66.47                          1\n",
              "54.36.150.65                          1\n",
              "2.61.103.153                          1\n",
              "178.129.255.160                       1\n",
              "Á5ÎBÒÀìv|¤m*Ý\u0018í^¬±yº¿0Gåÿ        1\n",
              "Name: CLIENT_IP, Length: 24902, dtype: int64"
            ]
          },
          "metadata": {},
          "execution_count": 18
        }
      ]
    },
    {
      "cell_type": "code",
      "source": [
        "print(\"Таблица частот ответа сервера\")\n",
        "result_df[\"RESPONSE_CODE\"].value_counts()"
      ],
      "metadata": {
        "colab": {
          "base_uri": "https://localhost:8080/"
        },
        "id": "DaIuVlehlmc8",
        "outputId": "96156f31-3f42-45fe-b4d8-dfe159cdf29d"
      },
      "execution_count": null,
      "outputs": [
        {
          "output_type": "stream",
          "name": "stdout",
          "text": [
            "Таблица частот ответа сервера\n"
          ]
        },
        {
          "output_type": "execute_result",
          "data": {
            "text/plain": [
              "200                                 25771\n",
              "404                                 20367\n",
              "302                                  6630\n",
              "403                                  1156\n",
              "304                                   940\n",
              "                                    ...  \n",
              "df913ceca75a4cc24ee0afbc2f22ceaf        1\n",
              "0b809ae29d22329a1ca3353f675e3dcf        1\n",
              "1afd3c172028bc84840929251e10a8f9        1\n",
              "82b4c42ac7edc647d27de21ceb791491        1\n",
              "be917628f6edcdc86d6bdea6edab6c48        1\n",
              "Name: RESPONSE_CODE, Length: 61, dtype: int64"
            ]
          },
          "metadata": {},
          "execution_count": 19
        }
      ]
    },
    {
      "cell_type": "code",
      "source": [
        "result_df[\"CLIENT_IP\"].value_counts().loc[lambda x: x > 100]"
      ],
      "metadata": {
        "colab": {
          "base_uri": "https://localhost:8080/"
        },
        "id": "ML2O7szLhw-7",
        "outputId": "c5249462-d17c-48d0-b28d-9787d36b8103"
      },
      "execution_count": null,
      "outputs": [
        {
          "output_type": "execute_result",
          "data": {
            "text/plain": [
              "217.175.140.69     11286\n",
              "37.46.129.136        771\n",
              "188.43.52.163        767\n",
              "5.143.231.38         757\n",
              "192.168.100.63       748\n",
              "185.26.112.50        687\n",
              "62.168.244.229       542\n",
              "103.208.220.130      303\n",
              "185.70.104.11        280\n",
              "178.236.141.227      214\n",
              "77.221.130.13        166\n",
              "217.175.155.82       126\n",
              "217.175.155.123      120\n",
              "217.175.155.124      119\n",
              "188.191.21.201       117\n",
              "95.188.66.154        106\n",
              "95.161.153.34        105\n",
              "172.31.1.19          101\n",
              "Name: CLIENT_IP, dtype: int64"
            ]
          },
          "metadata": {},
          "execution_count": 20
        }
      ]
    },
    {
      "cell_type": "code",
      "source": [
        "control_test=result_df.loc[[random.randint(0,len(result_df)), random.randint(0,len(result_df)), random.randint(0,len(result_df)),57748], :]\n",
        "merged_base= result_df.merge(control_test, how='outer', indicator=True)\n",
        "result_df=merged_base[merged_base['_merge'] == 'left_only'].drop(columns=['_merge'])"
      ],
      "metadata": {
        "id": "a6lEq4Y4QBlN"
      },
      "execution_count": null,
      "outputs": []
    },
    {
      "cell_type": "code",
      "source": [
        "control_test.to_csv(DIR+'control_test.csv')\n",
        "features = ['CLIENT_IP', 'CLIENT_USERAGENT','REQUEST_SIZE','RESPONSE_CODE']\n",
        "data_base=result_df[features]\n",
        "data_base.head()"
      ],
      "metadata": {
        "id": "pml1h9M4nNtU",
        "colab": {
          "base_uri": "https://localhost:8080/",
          "height": 206
        },
        "outputId": "17d905ac-5c82-4626-8344-b16ed689de62"
      },
      "execution_count": null,
      "outputs": [
        {
          "output_type": "execute_result",
          "data": {
            "text/plain": [
              "        CLIENT_IP                                   CLIENT_USERAGENT  \\\n",
              "0   188.138.92.55                                            Unknown   \n",
              "1  93.158.215.131  Mozilla/5.0 (Windows NT 6.3; WOW64; rv:45.0) G...   \n",
              "2  176.123.240.64  Mozilla/5.0 (Windows NT 6.0; rv:34.0) Gecko/20...   \n",
              "3     73.78.81.63  Mozilla/5.0 (Windows NT 6.3; WOW64; rv:45.0) G...   \n",
              "4     66.102.9.44  Mozilla/5.0 (Linux; Android 4.4.2; GT-N7100 Bu...   \n",
              "\n",
              "  REQUEST_SIZE RESPONSE_CODE  \n",
              "0          166           404  \n",
              "1          431           302  \n",
              "2          395           403  \n",
              "3          387           302  \n",
              "4         1733           404  "
            ],
            "text/html": [
              "\n",
              "  <div id=\"df-b020b41c-b5f3-4a8a-99a0-989033d14551\">\n",
              "    <div class=\"colab-df-container\">\n",
              "      <div>\n",
              "<style scoped>\n",
              "    .dataframe tbody tr th:only-of-type {\n",
              "        vertical-align: middle;\n",
              "    }\n",
              "\n",
              "    .dataframe tbody tr th {\n",
              "        vertical-align: top;\n",
              "    }\n",
              "\n",
              "    .dataframe thead th {\n",
              "        text-align: right;\n",
              "    }\n",
              "</style>\n",
              "<table border=\"1\" class=\"dataframe\">\n",
              "  <thead>\n",
              "    <tr style=\"text-align: right;\">\n",
              "      <th></th>\n",
              "      <th>CLIENT_IP</th>\n",
              "      <th>CLIENT_USERAGENT</th>\n",
              "      <th>REQUEST_SIZE</th>\n",
              "      <th>RESPONSE_CODE</th>\n",
              "    </tr>\n",
              "  </thead>\n",
              "  <tbody>\n",
              "    <tr>\n",
              "      <th>0</th>\n",
              "      <td>188.138.92.55</td>\n",
              "      <td>Unknown</td>\n",
              "      <td>166</td>\n",
              "      <td>404</td>\n",
              "    </tr>\n",
              "    <tr>\n",
              "      <th>1</th>\n",
              "      <td>93.158.215.131</td>\n",
              "      <td>Mozilla/5.0 (Windows NT 6.3; WOW64; rv:45.0) G...</td>\n",
              "      <td>431</td>\n",
              "      <td>302</td>\n",
              "    </tr>\n",
              "    <tr>\n",
              "      <th>2</th>\n",
              "      <td>176.123.240.64</td>\n",
              "      <td>Mozilla/5.0 (Windows NT 6.0; rv:34.0) Gecko/20...</td>\n",
              "      <td>395</td>\n",
              "      <td>403</td>\n",
              "    </tr>\n",
              "    <tr>\n",
              "      <th>3</th>\n",
              "      <td>73.78.81.63</td>\n",
              "      <td>Mozilla/5.0 (Windows NT 6.3; WOW64; rv:45.0) G...</td>\n",
              "      <td>387</td>\n",
              "      <td>302</td>\n",
              "    </tr>\n",
              "    <tr>\n",
              "      <th>4</th>\n",
              "      <td>66.102.9.44</td>\n",
              "      <td>Mozilla/5.0 (Linux; Android 4.4.2; GT-N7100 Bu...</td>\n",
              "      <td>1733</td>\n",
              "      <td>404</td>\n",
              "    </tr>\n",
              "  </tbody>\n",
              "</table>\n",
              "</div>\n",
              "      <button class=\"colab-df-convert\" onclick=\"convertToInteractive('df-b020b41c-b5f3-4a8a-99a0-989033d14551')\"\n",
              "              title=\"Convert this dataframe to an interactive table.\"\n",
              "              style=\"display:none;\">\n",
              "        \n",
              "  <svg xmlns=\"http://www.w3.org/2000/svg\" height=\"24px\"viewBox=\"0 0 24 24\"\n",
              "       width=\"24px\">\n",
              "    <path d=\"M0 0h24v24H0V0z\" fill=\"none\"/>\n",
              "    <path d=\"M18.56 5.44l.94 2.06.94-2.06 2.06-.94-2.06-.94-.94-2.06-.94 2.06-2.06.94zm-11 1L8.5 8.5l.94-2.06 2.06-.94-2.06-.94L8.5 2.5l-.94 2.06-2.06.94zm10 10l.94 2.06.94-2.06 2.06-.94-2.06-.94-.94-2.06-.94 2.06-2.06.94z\"/><path d=\"M17.41 7.96l-1.37-1.37c-.4-.4-.92-.59-1.43-.59-.52 0-1.04.2-1.43.59L10.3 9.45l-7.72 7.72c-.78.78-.78 2.05 0 2.83L4 21.41c.39.39.9.59 1.41.59.51 0 1.02-.2 1.41-.59l7.78-7.78 2.81-2.81c.8-.78.8-2.07 0-2.86zM5.41 20L4 18.59l7.72-7.72 1.47 1.35L5.41 20z\"/>\n",
              "  </svg>\n",
              "      </button>\n",
              "      \n",
              "  <style>\n",
              "    .colab-df-container {\n",
              "      display:flex;\n",
              "      flex-wrap:wrap;\n",
              "      gap: 12px;\n",
              "    }\n",
              "\n",
              "    .colab-df-convert {\n",
              "      background-color: #E8F0FE;\n",
              "      border: none;\n",
              "      border-radius: 50%;\n",
              "      cursor: pointer;\n",
              "      display: none;\n",
              "      fill: #1967D2;\n",
              "      height: 32px;\n",
              "      padding: 0 0 0 0;\n",
              "      width: 32px;\n",
              "    }\n",
              "\n",
              "    .colab-df-convert:hover {\n",
              "      background-color: #E2EBFA;\n",
              "      box-shadow: 0px 1px 2px rgba(60, 64, 67, 0.3), 0px 1px 3px 1px rgba(60, 64, 67, 0.15);\n",
              "      fill: #174EA6;\n",
              "    }\n",
              "\n",
              "    [theme=dark] .colab-df-convert {\n",
              "      background-color: #3B4455;\n",
              "      fill: #D2E3FC;\n",
              "    }\n",
              "\n",
              "    [theme=dark] .colab-df-convert:hover {\n",
              "      background-color: #434B5C;\n",
              "      box-shadow: 0px 1px 3px 1px rgba(0, 0, 0, 0.15);\n",
              "      filter: drop-shadow(0px 1px 2px rgba(0, 0, 0, 0.3));\n",
              "      fill: #FFFFFF;\n",
              "    }\n",
              "  </style>\n",
              "\n",
              "      <script>\n",
              "        const buttonEl =\n",
              "          document.querySelector('#df-b020b41c-b5f3-4a8a-99a0-989033d14551 button.colab-df-convert');\n",
              "        buttonEl.style.display =\n",
              "          google.colab.kernel.accessAllowed ? 'block' : 'none';\n",
              "\n",
              "        async function convertToInteractive(key) {\n",
              "          const element = document.querySelector('#df-b020b41c-b5f3-4a8a-99a0-989033d14551');\n",
              "          const dataTable =\n",
              "            await google.colab.kernel.invokeFunction('convertToInteractive',\n",
              "                                                     [key], {});\n",
              "          if (!dataTable) return;\n",
              "\n",
              "          const docLinkHtml = 'Like what you see? Visit the ' +\n",
              "            '<a target=\"_blank\" href=https://colab.research.google.com/notebooks/data_table.ipynb>data table notebook</a>'\n",
              "            + ' to learn more about interactive tables.';\n",
              "          element.innerHTML = '';\n",
              "          dataTable['output_type'] = 'display_data';\n",
              "          await google.colab.output.renderOutput(dataTable, element);\n",
              "          const docLink = document.createElement('div');\n",
              "          docLink.innerHTML = docLinkHtml;\n",
              "          element.appendChild(docLink);\n",
              "        }\n",
              "      </script>\n",
              "    </div>\n",
              "  </div>\n",
              "  "
            ]
          },
          "metadata": {},
          "execution_count": 22
        }
      ]
    },
    {
      "cell_type": "markdown",
      "source": [
        "Выводы:\n",
        "\n",
        "\n",
        "*   Большинство запросов имели размер от 0 до 100\n",
        "*   Большинство RESPONSE_CODE соответствуют успешным запросам (код 200), но есть также и ошибки (коды 400, 404, 500)\n",
        "*  В CLIENT_IP присутствуют клиенты, обратившиеся к серверу более 100 раз, но в их поведении не обнаружились аномалии\n",
        "*  В данных были найдены 44  записи, декодировать и/или определить кодировку которых не удается. При этом 9 из 44 записей подключались к системе 2 и более раз. Дополнительная информация по данным записям отсутствует, допускаю, что это могут быть ошибки логирования\n",
        "*   MATCHED_VARIABLE_SRC, MATCHED_VARIABLE_NAME, MATCHED_VARIABLE_VALUE: эти атрибуты представляют собой дополнительные данные, которые использовались при сопоставлении запросов в логах и не содержат непосредственно информации о клиенте или сервере.\n",
        "\n"
      ],
      "metadata": {
        "id": "slg4o7vH-JyV"
      }
    },
    {
      "cell_type": "markdown",
      "source": [
        "# Препроцессинг"
      ],
      "metadata": {
        "id": "mlABrzF0AyLt"
      }
    },
    {
      "cell_type": "code",
      "source": [
        "data_base_sc=data_base.copy()"
      ],
      "metadata": {
        "id": "MxCUXfF7da50"
      },
      "execution_count": null,
      "outputs": []
    },
    {
      "cell_type": "code",
      "source": [
        "factor_dict={}\n",
        "features = ['CLIENT_IP', 'CLIENT_USERAGENT','REQUEST_SIZE','RESPONSE_CODE']\n",
        "for f in features:\n",
        "  data_base_sc[f],factor = pd.factorize(data_base_sc[f])\n",
        "  data_base_sc[f] = pd.Categorical(data_base_sc[f])\n",
        "  factor_dict[f] = {'factors': pd.Categorical(data_base_sc[f]), 'categories': factor}"
      ],
      "metadata": {
        "id": "DtK1U0i_da53"
      },
      "execution_count": null,
      "outputs": []
    },
    {
      "cell_type": "code",
      "source": [
        "#стандартизация\n",
        "scaler = StandardScaler()\n",
        "X_scaled = scaler.fit_transform(data_base_sc)"
      ],
      "metadata": {
        "id": "nfO0SUuFErna"
      },
      "execution_count": null,
      "outputs": []
    },
    {
      "cell_type": "markdown",
      "source": [
        "# Подбор модели"
      ],
      "metadata": {
        "id": "27L5hIEoFo6j"
      }
    },
    {
      "cell_type": "markdown",
      "source": [
        "## Кластеризация DBSCAN"
      ],
      "metadata": {
        "id": "3Ei-ly1EGYoy"
      }
    },
    {
      "cell_type": "code",
      "source": [
        "eps_list = [0.5, 1.0, 1.5]\n",
        "min_samples_list = [3, 5, 10]\n",
        "results = {'eps': [], 'min_samples': [], 'n_clusters': [], 'silhouette_score': []}\n",
        "\n",
        "for eps in eps_list:\n",
        "  for min_samples in min_samples_list:\n",
        "    dbscan = DBSCAN(eps=eps, min_samples=min_samples)\n",
        "    labels = dbscan.fit_predict(X_scaled)\n",
        "    n_clusters = len(set(labels)) - (1 if -1 in labels else 0)\n",
        "    if n_clusters > 1:\n",
        "      silhouette = silhouette_score(X_scaled, labels)\n",
        "    else:\n",
        "      silhouette = float('nan')\n",
        "    results['eps'].append(eps)\n",
        "    results['min_samples'].append(min_samples)\n",
        "    results['n_clusters'].append(n_clusters)\n",
        "    results['silhouette_score'].append(silhouette)\n",
        "\n",
        "\n",
        "comparison_table = pd.DataFrame(results)"
      ],
      "metadata": {
        "id": "crfBhhORoseS"
      },
      "execution_count": null,
      "outputs": []
    },
    {
      "cell_type": "code",
      "source": [
        "comparison_table.sort_values('silhouette_score',ascending=False)"
      ],
      "metadata": {
        "colab": {
          "base_uri": "https://localhost:8080/",
          "height": 332
        },
        "id": "_3xs5dQSxJxP",
        "outputId": "499cb633-6d03-4569-f0e2-3870bfdd5008"
      },
      "execution_count": null,
      "outputs": [
        {
          "output_type": "execute_result",
          "data": {
            "text/plain": [
              "   eps  min_samples  n_clusters  silhouette_score\n",
              "8  1.5           10           2          0.757462\n",
              "5  1.0           10           2          0.754205\n",
              "6  1.5            3           2          0.689981\n",
              "7  1.5            5           2          0.689981\n",
              "4  1.0            5           2          0.593739\n",
              "3  1.0            3           4          0.388733\n",
              "2  0.5           10          10          0.366596\n",
              "0  0.5            3          30          0.145065\n",
              "1  0.5            5          17          0.108383"
            ],
            "text/html": [
              "\n",
              "  <div id=\"df-1b71ab24-3753-479b-ad53-020fac320373\">\n",
              "    <div class=\"colab-df-container\">\n",
              "      <div>\n",
              "<style scoped>\n",
              "    .dataframe tbody tr th:only-of-type {\n",
              "        vertical-align: middle;\n",
              "    }\n",
              "\n",
              "    .dataframe tbody tr th {\n",
              "        vertical-align: top;\n",
              "    }\n",
              "\n",
              "    .dataframe thead th {\n",
              "        text-align: right;\n",
              "    }\n",
              "</style>\n",
              "<table border=\"1\" class=\"dataframe\">\n",
              "  <thead>\n",
              "    <tr style=\"text-align: right;\">\n",
              "      <th></th>\n",
              "      <th>eps</th>\n",
              "      <th>min_samples</th>\n",
              "      <th>n_clusters</th>\n",
              "      <th>silhouette_score</th>\n",
              "    </tr>\n",
              "  </thead>\n",
              "  <tbody>\n",
              "    <tr>\n",
              "      <th>8</th>\n",
              "      <td>1.5</td>\n",
              "      <td>10</td>\n",
              "      <td>2</td>\n",
              "      <td>0.757462</td>\n",
              "    </tr>\n",
              "    <tr>\n",
              "      <th>5</th>\n",
              "      <td>1.0</td>\n",
              "      <td>10</td>\n",
              "      <td>2</td>\n",
              "      <td>0.754205</td>\n",
              "    </tr>\n",
              "    <tr>\n",
              "      <th>6</th>\n",
              "      <td>1.5</td>\n",
              "      <td>3</td>\n",
              "      <td>2</td>\n",
              "      <td>0.689981</td>\n",
              "    </tr>\n",
              "    <tr>\n",
              "      <th>7</th>\n",
              "      <td>1.5</td>\n",
              "      <td>5</td>\n",
              "      <td>2</td>\n",
              "      <td>0.689981</td>\n",
              "    </tr>\n",
              "    <tr>\n",
              "      <th>4</th>\n",
              "      <td>1.0</td>\n",
              "      <td>5</td>\n",
              "      <td>2</td>\n",
              "      <td>0.593739</td>\n",
              "    </tr>\n",
              "    <tr>\n",
              "      <th>3</th>\n",
              "      <td>1.0</td>\n",
              "      <td>3</td>\n",
              "      <td>4</td>\n",
              "      <td>0.388733</td>\n",
              "    </tr>\n",
              "    <tr>\n",
              "      <th>2</th>\n",
              "      <td>0.5</td>\n",
              "      <td>10</td>\n",
              "      <td>10</td>\n",
              "      <td>0.366596</td>\n",
              "    </tr>\n",
              "    <tr>\n",
              "      <th>0</th>\n",
              "      <td>0.5</td>\n",
              "      <td>3</td>\n",
              "      <td>30</td>\n",
              "      <td>0.145065</td>\n",
              "    </tr>\n",
              "    <tr>\n",
              "      <th>1</th>\n",
              "      <td>0.5</td>\n",
              "      <td>5</td>\n",
              "      <td>17</td>\n",
              "      <td>0.108383</td>\n",
              "    </tr>\n",
              "  </tbody>\n",
              "</table>\n",
              "</div>\n",
              "      <button class=\"colab-df-convert\" onclick=\"convertToInteractive('df-1b71ab24-3753-479b-ad53-020fac320373')\"\n",
              "              title=\"Convert this dataframe to an interactive table.\"\n",
              "              style=\"display:none;\">\n",
              "        \n",
              "  <svg xmlns=\"http://www.w3.org/2000/svg\" height=\"24px\"viewBox=\"0 0 24 24\"\n",
              "       width=\"24px\">\n",
              "    <path d=\"M0 0h24v24H0V0z\" fill=\"none\"/>\n",
              "    <path d=\"M18.56 5.44l.94 2.06.94-2.06 2.06-.94-2.06-.94-.94-2.06-.94 2.06-2.06.94zm-11 1L8.5 8.5l.94-2.06 2.06-.94-2.06-.94L8.5 2.5l-.94 2.06-2.06.94zm10 10l.94 2.06.94-2.06 2.06-.94-2.06-.94-.94-2.06-.94 2.06-2.06.94z\"/><path d=\"M17.41 7.96l-1.37-1.37c-.4-.4-.92-.59-1.43-.59-.52 0-1.04.2-1.43.59L10.3 9.45l-7.72 7.72c-.78.78-.78 2.05 0 2.83L4 21.41c.39.39.9.59 1.41.59.51 0 1.02-.2 1.41-.59l7.78-7.78 2.81-2.81c.8-.78.8-2.07 0-2.86zM5.41 20L4 18.59l7.72-7.72 1.47 1.35L5.41 20z\"/>\n",
              "  </svg>\n",
              "      </button>\n",
              "      \n",
              "  <style>\n",
              "    .colab-df-container {\n",
              "      display:flex;\n",
              "      flex-wrap:wrap;\n",
              "      gap: 12px;\n",
              "    }\n",
              "\n",
              "    .colab-df-convert {\n",
              "      background-color: #E8F0FE;\n",
              "      border: none;\n",
              "      border-radius: 50%;\n",
              "      cursor: pointer;\n",
              "      display: none;\n",
              "      fill: #1967D2;\n",
              "      height: 32px;\n",
              "      padding: 0 0 0 0;\n",
              "      width: 32px;\n",
              "    }\n",
              "\n",
              "    .colab-df-convert:hover {\n",
              "      background-color: #E2EBFA;\n",
              "      box-shadow: 0px 1px 2px rgba(60, 64, 67, 0.3), 0px 1px 3px 1px rgba(60, 64, 67, 0.15);\n",
              "      fill: #174EA6;\n",
              "    }\n",
              "\n",
              "    [theme=dark] .colab-df-convert {\n",
              "      background-color: #3B4455;\n",
              "      fill: #D2E3FC;\n",
              "    }\n",
              "\n",
              "    [theme=dark] .colab-df-convert:hover {\n",
              "      background-color: #434B5C;\n",
              "      box-shadow: 0px 1px 3px 1px rgba(0, 0, 0, 0.15);\n",
              "      filter: drop-shadow(0px 1px 2px rgba(0, 0, 0, 0.3));\n",
              "      fill: #FFFFFF;\n",
              "    }\n",
              "  </style>\n",
              "\n",
              "      <script>\n",
              "        const buttonEl =\n",
              "          document.querySelector('#df-1b71ab24-3753-479b-ad53-020fac320373 button.colab-df-convert');\n",
              "        buttonEl.style.display =\n",
              "          google.colab.kernel.accessAllowed ? 'block' : 'none';\n",
              "\n",
              "        async function convertToInteractive(key) {\n",
              "          const element = document.querySelector('#df-1b71ab24-3753-479b-ad53-020fac320373');\n",
              "          const dataTable =\n",
              "            await google.colab.kernel.invokeFunction('convertToInteractive',\n",
              "                                                     [key], {});\n",
              "          if (!dataTable) return;\n",
              "\n",
              "          const docLinkHtml = 'Like what you see? Visit the ' +\n",
              "            '<a target=\"_blank\" href=https://colab.research.google.com/notebooks/data_table.ipynb>data table notebook</a>'\n",
              "            + ' to learn more about interactive tables.';\n",
              "          element.innerHTML = '';\n",
              "          dataTable['output_type'] = 'display_data';\n",
              "          await google.colab.output.renderOutput(dataTable, element);\n",
              "          const docLink = document.createElement('div');\n",
              "          docLink.innerHTML = docLinkHtml;\n",
              "          element.appendChild(docLink);\n",
              "        }\n",
              "      </script>\n",
              "    </div>\n",
              "  </div>\n",
              "  "
            ]
          },
          "metadata": {},
          "execution_count": 38
        }
      ]
    },
    {
      "cell_type": "code",
      "source": [
        "dbscan = DBSCAN(eps=0.5, min_samples=3)\n",
        "dbscan.fit(X_scaled)"
      ],
      "metadata": {
        "id": "dPKrjS0-Geu0",
        "colab": {
          "base_uri": "https://localhost:8080/",
          "height": 75
        },
        "outputId": "44b762d5-5359-4983-84e7-41bb42e128e0"
      },
      "execution_count": null,
      "outputs": [
        {
          "output_type": "execute_result",
          "data": {
            "text/plain": [
              "DBSCAN(min_samples=3)"
            ],
            "text/html": [
              "<style>#sk-container-id-1 {color: black;background-color: white;}#sk-container-id-1 pre{padding: 0;}#sk-container-id-1 div.sk-toggleable {background-color: white;}#sk-container-id-1 label.sk-toggleable__label {cursor: pointer;display: block;width: 100%;margin-bottom: 0;padding: 0.3em;box-sizing: border-box;text-align: center;}#sk-container-id-1 label.sk-toggleable__label-arrow:before {content: \"▸\";float: left;margin-right: 0.25em;color: #696969;}#sk-container-id-1 label.sk-toggleable__label-arrow:hover:before {color: black;}#sk-container-id-1 div.sk-estimator:hover label.sk-toggleable__label-arrow:before {color: black;}#sk-container-id-1 div.sk-toggleable__content {max-height: 0;max-width: 0;overflow: hidden;text-align: left;background-color: #f0f8ff;}#sk-container-id-1 div.sk-toggleable__content pre {margin: 0.2em;color: black;border-radius: 0.25em;background-color: #f0f8ff;}#sk-container-id-1 input.sk-toggleable__control:checked~div.sk-toggleable__content {max-height: 200px;max-width: 100%;overflow: auto;}#sk-container-id-1 input.sk-toggleable__control:checked~label.sk-toggleable__label-arrow:before {content: \"▾\";}#sk-container-id-1 div.sk-estimator input.sk-toggleable__control:checked~label.sk-toggleable__label {background-color: #d4ebff;}#sk-container-id-1 div.sk-label input.sk-toggleable__control:checked~label.sk-toggleable__label {background-color: #d4ebff;}#sk-container-id-1 input.sk-hidden--visually {border: 0;clip: rect(1px 1px 1px 1px);clip: rect(1px, 1px, 1px, 1px);height: 1px;margin: -1px;overflow: hidden;padding: 0;position: absolute;width: 1px;}#sk-container-id-1 div.sk-estimator {font-family: monospace;background-color: #f0f8ff;border: 1px dotted black;border-radius: 0.25em;box-sizing: border-box;margin-bottom: 0.5em;}#sk-container-id-1 div.sk-estimator:hover {background-color: #d4ebff;}#sk-container-id-1 div.sk-parallel-item::after {content: \"\";width: 100%;border-bottom: 1px solid gray;flex-grow: 1;}#sk-container-id-1 div.sk-label:hover label.sk-toggleable__label {background-color: #d4ebff;}#sk-container-id-1 div.sk-serial::before {content: \"\";position: absolute;border-left: 1px solid gray;box-sizing: border-box;top: 0;bottom: 0;left: 50%;z-index: 0;}#sk-container-id-1 div.sk-serial {display: flex;flex-direction: column;align-items: center;background-color: white;padding-right: 0.2em;padding-left: 0.2em;position: relative;}#sk-container-id-1 div.sk-item {position: relative;z-index: 1;}#sk-container-id-1 div.sk-parallel {display: flex;align-items: stretch;justify-content: center;background-color: white;position: relative;}#sk-container-id-1 div.sk-item::before, #sk-container-id-1 div.sk-parallel-item::before {content: \"\";position: absolute;border-left: 1px solid gray;box-sizing: border-box;top: 0;bottom: 0;left: 50%;z-index: -1;}#sk-container-id-1 div.sk-parallel-item {display: flex;flex-direction: column;z-index: 1;position: relative;background-color: white;}#sk-container-id-1 div.sk-parallel-item:first-child::after {align-self: flex-end;width: 50%;}#sk-container-id-1 div.sk-parallel-item:last-child::after {align-self: flex-start;width: 50%;}#sk-container-id-1 div.sk-parallel-item:only-child::after {width: 0;}#sk-container-id-1 div.sk-dashed-wrapped {border: 1px dashed gray;margin: 0 0.4em 0.5em 0.4em;box-sizing: border-box;padding-bottom: 0.4em;background-color: white;}#sk-container-id-1 div.sk-label label {font-family: monospace;font-weight: bold;display: inline-block;line-height: 1.2em;}#sk-container-id-1 div.sk-label-container {text-align: center;}#sk-container-id-1 div.sk-container {/* jupyter's `normalize.less` sets `[hidden] { display: none; }` but bootstrap.min.css set `[hidden] { display: none !important; }` so we also need the `!important` here to be able to override the default hidden behavior on the sphinx rendered scikit-learn.org. See: https://github.com/scikit-learn/scikit-learn/issues/21755 */display: inline-block !important;position: relative;}#sk-container-id-1 div.sk-text-repr-fallback {display: none;}</style><div id=\"sk-container-id-1\" class=\"sk-top-container\"><div class=\"sk-text-repr-fallback\"><pre>DBSCAN(min_samples=3)</pre><b>In a Jupyter environment, please rerun this cell to show the HTML representation or trust the notebook. <br />On GitHub, the HTML representation is unable to render, please try loading this page with nbviewer.org.</b></div><div class=\"sk-container\" hidden><div class=\"sk-item\"><div class=\"sk-estimator sk-toggleable\"><input class=\"sk-toggleable__control sk-hidden--visually\" id=\"sk-estimator-id-1\" type=\"checkbox\" checked><label for=\"sk-estimator-id-1\" class=\"sk-toggleable__label sk-toggleable__label-arrow\">DBSCAN</label><div class=\"sk-toggleable__content\"><pre>DBSCAN(min_samples=3)</pre></div></div></div></div></div>"
            ]
          },
          "metadata": {},
          "execution_count": 39
        }
      ]
    },
    {
      "cell_type": "code",
      "source": [
        "analise=data_base.copy()\n",
        "label = dbscan.labels_\n",
        "analise['cluster'] = label\n",
        "\n",
        "for i in range(-1, max(label)+1):\n",
        "  print('\\nCluster', i)\n",
        "  cluster_data = analise[analise['cluster'] == i]\n",
        "  print(cluster_data.describe())"
      ],
      "metadata": {
        "id": "eKGVvM-Ku1I2",
        "colab": {
          "base_uri": "https://localhost:8080/"
        },
        "outputId": "0147644a-9063-4462-8c00-2bab8a8337e5"
      },
      "execution_count": null,
      "outputs": [
        {
          "output_type": "stream",
          "name": "stdout",
          "text": [
            "\n",
            "Cluster -1\n",
            "       cluster\n",
            "count    253.0\n",
            "mean      -1.0\n",
            "std        0.0\n",
            "min       -1.0\n",
            "25%       -1.0\n",
            "50%       -1.0\n",
            "75%       -1.0\n",
            "max       -1.0\n",
            "\n",
            "Cluster 0\n",
            "       cluster\n",
            "count  57295.0\n",
            "mean       0.0\n",
            "std        0.0\n",
            "min        0.0\n",
            "25%        0.0\n",
            "50%        0.0\n",
            "75%        0.0\n",
            "max        0.0\n",
            "\n",
            "Cluster 1\n",
            "       cluster\n",
            "count      6.0\n",
            "mean       1.0\n",
            "std        0.0\n",
            "min        1.0\n",
            "25%        1.0\n",
            "50%        1.0\n",
            "75%        1.0\n",
            "max        1.0\n",
            "\n",
            "Cluster 2\n",
            "       cluster\n",
            "count      3.0\n",
            "mean       2.0\n",
            "std        0.0\n",
            "min        2.0\n",
            "25%        2.0\n",
            "50%        2.0\n",
            "75%        2.0\n",
            "max        2.0\n",
            "\n",
            "Cluster 3\n",
            "       cluster\n",
            "count      3.0\n",
            "mean       3.0\n",
            "std        0.0\n",
            "min        3.0\n",
            "25%        3.0\n",
            "50%        3.0\n",
            "75%        3.0\n",
            "max        3.0\n",
            "\n",
            "Cluster 4\n",
            "       cluster\n",
            "count      5.0\n",
            "mean       4.0\n",
            "std        0.0\n",
            "min        4.0\n",
            "25%        4.0\n",
            "50%        4.0\n",
            "75%        4.0\n",
            "max        4.0\n",
            "\n",
            "Cluster 5\n",
            "       cluster\n",
            "count      7.0\n",
            "mean       5.0\n",
            "std        0.0\n",
            "min        5.0\n",
            "25%        5.0\n",
            "50%        5.0\n",
            "75%        5.0\n",
            "max        5.0\n",
            "\n",
            "Cluster 6\n",
            "       cluster\n",
            "count     65.0\n",
            "mean       6.0\n",
            "std        0.0\n",
            "min        6.0\n",
            "25%        6.0\n",
            "50%        6.0\n",
            "75%        6.0\n",
            "max        6.0\n",
            "\n",
            "Cluster 7\n",
            "       cluster\n",
            "count      3.0\n",
            "mean       7.0\n",
            "std        0.0\n",
            "min        7.0\n",
            "25%        7.0\n",
            "50%        7.0\n",
            "75%        7.0\n",
            "max        7.0\n",
            "\n",
            "Cluster 8\n",
            "       cluster\n",
            "count      9.0\n",
            "mean       8.0\n",
            "std        0.0\n",
            "min        8.0\n",
            "25%        8.0\n",
            "50%        8.0\n",
            "75%        8.0\n",
            "max        8.0\n",
            "\n",
            "Cluster 9\n",
            "       cluster\n",
            "count      5.0\n",
            "mean       9.0\n",
            "std        0.0\n",
            "min        9.0\n",
            "25%        9.0\n",
            "50%        9.0\n",
            "75%        9.0\n",
            "max        9.0\n",
            "\n",
            "Cluster 10\n",
            "       cluster\n",
            "count      3.0\n",
            "mean      10.0\n",
            "std        0.0\n",
            "min       10.0\n",
            "25%       10.0\n",
            "50%       10.0\n",
            "75%       10.0\n",
            "max       10.0\n",
            "\n",
            "Cluster 11\n",
            "       cluster\n",
            "count      5.0\n",
            "mean      11.0\n",
            "std        0.0\n",
            "min       11.0\n",
            "25%       11.0\n",
            "50%       11.0\n",
            "75%       11.0\n",
            "max       11.0\n",
            "\n",
            "Cluster 12\n",
            "       cluster\n",
            "count      3.0\n",
            "mean      12.0\n",
            "std        0.0\n",
            "min       12.0\n",
            "25%       12.0\n",
            "50%       12.0\n",
            "75%       12.0\n",
            "max       12.0\n",
            "\n",
            "Cluster 13\n",
            "       cluster\n",
            "count      7.0\n",
            "mean      13.0\n",
            "std        0.0\n",
            "min       13.0\n",
            "25%       13.0\n",
            "50%       13.0\n",
            "75%       13.0\n",
            "max       13.0\n",
            "\n",
            "Cluster 14\n",
            "       cluster\n",
            "count      5.0\n",
            "mean      14.0\n",
            "std        0.0\n",
            "min       14.0\n",
            "25%       14.0\n",
            "50%       14.0\n",
            "75%       14.0\n",
            "max       14.0\n",
            "\n",
            "Cluster 15\n",
            "       cluster\n",
            "count      3.0\n",
            "mean      15.0\n",
            "std        0.0\n",
            "min       15.0\n",
            "25%       15.0\n",
            "50%       15.0\n",
            "75%       15.0\n",
            "max       15.0\n",
            "\n",
            "Cluster 16\n",
            "       cluster\n",
            "count      3.0\n",
            "mean      16.0\n",
            "std        0.0\n",
            "min       16.0\n",
            "25%       16.0\n",
            "50%       16.0\n",
            "75%       16.0\n",
            "max       16.0\n",
            "\n",
            "Cluster 17\n",
            "       cluster\n",
            "count      3.0\n",
            "mean      17.0\n",
            "std        0.0\n",
            "min       17.0\n",
            "25%       17.0\n",
            "50%       17.0\n",
            "75%       17.0\n",
            "max       17.0\n",
            "\n",
            "Cluster 18\n",
            "       cluster\n",
            "count      4.0\n",
            "mean      18.0\n",
            "std        0.0\n",
            "min       18.0\n",
            "25%       18.0\n",
            "50%       18.0\n",
            "75%       18.0\n",
            "max       18.0\n",
            "\n",
            "Cluster 19\n",
            "       cluster\n",
            "count      8.0\n",
            "mean      19.0\n",
            "std        0.0\n",
            "min       19.0\n",
            "25%       19.0\n",
            "50%       19.0\n",
            "75%       19.0\n",
            "max       19.0\n",
            "\n",
            "Cluster 20\n",
            "       cluster\n",
            "count      3.0\n",
            "mean      20.0\n",
            "std        0.0\n",
            "min       20.0\n",
            "25%       20.0\n",
            "50%       20.0\n",
            "75%       20.0\n",
            "max       20.0\n",
            "\n",
            "Cluster 21\n",
            "       cluster\n",
            "count      3.0\n",
            "mean      21.0\n",
            "std        0.0\n",
            "min       21.0\n",
            "25%       21.0\n",
            "50%       21.0\n",
            "75%       21.0\n",
            "max       21.0\n",
            "\n",
            "Cluster 22\n",
            "       cluster\n",
            "count      4.0\n",
            "mean      22.0\n",
            "std        0.0\n",
            "min       22.0\n",
            "25%       22.0\n",
            "50%       22.0\n",
            "75%       22.0\n",
            "max       22.0\n",
            "\n",
            "Cluster 23\n",
            "       cluster\n",
            "count      3.0\n",
            "mean      23.0\n",
            "std        0.0\n",
            "min       23.0\n",
            "25%       23.0\n",
            "50%       23.0\n",
            "75%       23.0\n",
            "max       23.0\n",
            "\n",
            "Cluster 24\n",
            "       cluster\n",
            "count      4.0\n",
            "mean      24.0\n",
            "std        0.0\n",
            "min       24.0\n",
            "25%       24.0\n",
            "50%       24.0\n",
            "75%       24.0\n",
            "max       24.0\n",
            "\n",
            "Cluster 25\n",
            "       cluster\n",
            "count      3.0\n",
            "mean      25.0\n",
            "std        0.0\n",
            "min       25.0\n",
            "25%       25.0\n",
            "50%       25.0\n",
            "75%       25.0\n",
            "max       25.0\n",
            "\n",
            "Cluster 26\n",
            "       cluster\n",
            "count      3.0\n",
            "mean      26.0\n",
            "std        0.0\n",
            "min       26.0\n",
            "25%       26.0\n",
            "50%       26.0\n",
            "75%       26.0\n",
            "max       26.0\n",
            "\n",
            "Cluster 27\n",
            "       cluster\n",
            "count      3.0\n",
            "mean      27.0\n",
            "std        0.0\n",
            "min       27.0\n",
            "25%       27.0\n",
            "50%       27.0\n",
            "75%       27.0\n",
            "max       27.0\n",
            "\n",
            "Cluster 28\n",
            "       cluster\n",
            "count      3.0\n",
            "mean      28.0\n",
            "std        0.0\n",
            "min       28.0\n",
            "25%       28.0\n",
            "50%       28.0\n",
            "75%       28.0\n",
            "max       28.0\n",
            "\n",
            "Cluster 29\n",
            "       cluster\n",
            "count     63.0\n",
            "mean      29.0\n",
            "std        0.0\n",
            "min       29.0\n",
            "25%       29.0\n",
            "50%       29.0\n",
            "75%       29.0\n",
            "max       29.0\n"
          ]
        }
      ]
    },
    {
      "cell_type": "code",
      "source": [
        "analise[analise['cluster']==29]"
      ],
      "metadata": {
        "colab": {
          "base_uri": "https://localhost:8080/",
          "height": 424
        },
        "id": "gkkuLRUQDXc3",
        "outputId": "d7b75dd9-41ab-4eee-b5dd-cdfeb34f157b"
      },
      "execution_count": null,
      "outputs": [
        {
          "output_type": "execute_result",
          "data": {
            "text/plain": [
              "                                               CLIENT_IP  \\\n",
              "57730                              Remote Code Execution   \n",
              "57731                              Remote Code Execution   \n",
              "57732                              Remote Code Execution   \n",
              "57733                              Remote Code Execution   \n",
              "57734                              Remote Code Execution   \n",
              "...                                                  ...   \n",
              "57789  I·`)ó>ïï\n",
              "#��é=Aþ\u0014yÒzþü ë\u0003\u0004VEݴG>E¼É!õý¿=Àûg...   \n",
              "57790                              ?{7?¹۱V>F¢¾ºþÀÒûÛ\u0001ÿ   \n",
              "57791                ]övêÌ=¼¯³·Wø\n",
              "a©Éc½vQù*N9õÎ\u000f^ù\u0006´ÿ   \n",
              "57792                                       r®\\t÷À5ÞbØÿ   \n",
              "57793                     Á5ÎBÒÀìv|¤m*Ý\u0018í^¬±yº¿0Gåÿ   \n",
              "\n",
              "           CLIENT_USERAGENT                      REQUEST_SIZE  \\\n",
              "57730  AVdtgf8uq1Ppo9zF_hyd  4df2f46285c84ba39fa84fc4878214ae   \n",
              "57731  AVddr1QQq1Ppo9zF3Vuj  0b168993dda4ce786f3455d01e162a58   \n",
              "57732  AVddRtA4q1Ppo9zF3E0u  f44ca434dfc32f17dff464956033f461   \n",
              "57733  AVdrihgNq1Ppo9zF-n8K  47dcc12389bccd49ba2a60b2e0a56e98   \n",
              "57734  AVdh6mHyq1Ppo9zF5Zg-  57e7c5ef3f48e338deff1b3ff9d91b26   \n",
              "...                     ...                               ...   \n",
              "57789  Cross-Site Scripting              AVdXQUGaq1Ppo9zFznch   \n",
              "57790  Cross-Site Scripting              AVdbqa9jq1Ppo9zF2FKr   \n",
              "57791  Cross-Site Scripting              AVdZlemoq1Ppo9zF1Btr   \n",
              "57792  Cross-Site Scripting              AVdbxeDNq1Ppo9zF2JJA   \n",
              "57793  Cross-Site Scripting              AVdahsWJq1Ppo9zF1g73   \n",
              "\n",
              "                          RESPONSE_CODE  cluster  \n",
              "57730                           Unknown       29  \n",
              "57731                           Unknown       29  \n",
              "57732                           Unknown       29  \n",
              "57733                           Unknown       29  \n",
              "57734                           Unknown       29  \n",
              "...                                 ...      ...  \n",
              "57789  1f71588787ee4ee0ef301328471e64e9       29  \n",
              "57790  63efc61a61cb360cf4bc705e86d9f31f       29  \n",
              "57791  d64bdad286ae021642535d4f119a0546       29  \n",
              "57792  50a68d94b153e22135f74f7377b95cda       29  \n",
              "57793  be917628f6edcdc86d6bdea6edab6c48       29  \n",
              "\n",
              "[63 rows x 5 columns]"
            ],
            "text/html": [
              "\n",
              "  <div id=\"df-47e4e446-0f0d-445a-a490-407a89d7d14b\">\n",
              "    <div class=\"colab-df-container\">\n",
              "      <div>\n",
              "<style scoped>\n",
              "    .dataframe tbody tr th:only-of-type {\n",
              "        vertical-align: middle;\n",
              "    }\n",
              "\n",
              "    .dataframe tbody tr th {\n",
              "        vertical-align: top;\n",
              "    }\n",
              "\n",
              "    .dataframe thead th {\n",
              "        text-align: right;\n",
              "    }\n",
              "</style>\n",
              "<table border=\"1\" class=\"dataframe\">\n",
              "  <thead>\n",
              "    <tr style=\"text-align: right;\">\n",
              "      <th></th>\n",
              "      <th>CLIENT_IP</th>\n",
              "      <th>CLIENT_USERAGENT</th>\n",
              "      <th>REQUEST_SIZE</th>\n",
              "      <th>RESPONSE_CODE</th>\n",
              "      <th>cluster</th>\n",
              "    </tr>\n",
              "  </thead>\n",
              "  <tbody>\n",
              "    <tr>\n",
              "      <th>57730</th>\n",
              "      <td>Remote Code Execution</td>\n",
              "      <td>AVdtgf8uq1Ppo9zF_hyd</td>\n",
              "      <td>4df2f46285c84ba39fa84fc4878214ae</td>\n",
              "      <td>Unknown</td>\n",
              "      <td>29</td>\n",
              "    </tr>\n",
              "    <tr>\n",
              "      <th>57731</th>\n",
              "      <td>Remote Code Execution</td>\n",
              "      <td>AVddr1QQq1Ppo9zF3Vuj</td>\n",
              "      <td>0b168993dda4ce786f3455d01e162a58</td>\n",
              "      <td>Unknown</td>\n",
              "      <td>29</td>\n",
              "    </tr>\n",
              "    <tr>\n",
              "      <th>57732</th>\n",
              "      <td>Remote Code Execution</td>\n",
              "      <td>AVddRtA4q1Ppo9zF3E0u</td>\n",
              "      <td>f44ca434dfc32f17dff464956033f461</td>\n",
              "      <td>Unknown</td>\n",
              "      <td>29</td>\n",
              "    </tr>\n",
              "    <tr>\n",
              "      <th>57733</th>\n",
              "      <td>Remote Code Execution</td>\n",
              "      <td>AVdrihgNq1Ppo9zF-n8K</td>\n",
              "      <td>47dcc12389bccd49ba2a60b2e0a56e98</td>\n",
              "      <td>Unknown</td>\n",
              "      <td>29</td>\n",
              "    </tr>\n",
              "    <tr>\n",
              "      <th>57734</th>\n",
              "      <td>Remote Code Execution</td>\n",
              "      <td>AVdh6mHyq1Ppo9zF5Zg-</td>\n",
              "      <td>57e7c5ef3f48e338deff1b3ff9d91b26</td>\n",
              "      <td>Unknown</td>\n",
              "      <td>29</td>\n",
              "    </tr>\n",
              "    <tr>\n",
              "      <th>...</th>\n",
              "      <td>...</td>\n",
              "      <td>...</td>\n",
              "      <td>...</td>\n",
              "      <td>...</td>\n",
              "      <td>...</td>\n",
              "    </tr>\n",
              "    <tr>\n",
              "      <th>57789</th>\n",
              "      <td>I·`)ó&gt;ïï\u000b#��é=Aþ\u0014yÒzþü ë\u0003\u0004VEݴG&gt;E¼É!õý¿=Àûg...</td>\n",
              "      <td>Cross-Site Scripting</td>\n",
              "      <td>AVdXQUGaq1Ppo9zFznch</td>\n",
              "      <td>1f71588787ee4ee0ef301328471e64e9</td>\n",
              "      <td>29</td>\n",
              "    </tr>\n",
              "    <tr>\n",
              "      <th>57790</th>\n",
              "      <td>?{7?¹۱V&gt;F¢¾ºþÀÒûÛ\u0001ÿ</td>\n",
              "      <td>Cross-Site Scripting</td>\n",
              "      <td>AVdbqa9jq1Ppo9zF2FKr</td>\n",
              "      <td>63efc61a61cb360cf4bc705e86d9f31f</td>\n",
              "      <td>29</td>\n",
              "    </tr>\n",
              "    <tr>\n",
              "      <th>57791</th>\n",
              "      <td>]övêÌ=¼¯³·Wø\u000ba©Éc½vQù*N9õÎ\u000f^ù\u0006´ÿ</td>\n",
              "      <td>Cross-Site Scripting</td>\n",
              "      <td>AVdZlemoq1Ppo9zF1Btr</td>\n",
              "      <td>d64bdad286ae021642535d4f119a0546</td>\n",
              "      <td>29</td>\n",
              "    </tr>\n",
              "    <tr>\n",
              "      <th>57792</th>\n",
              "      <td>r®\\t÷À5ÞbØÿ</td>\n",
              "      <td>Cross-Site Scripting</td>\n",
              "      <td>AVdbxeDNq1Ppo9zF2JJA</td>\n",
              "      <td>50a68d94b153e22135f74f7377b95cda</td>\n",
              "      <td>29</td>\n",
              "    </tr>\n",
              "    <tr>\n",
              "      <th>57793</th>\n",
              "      <td>Á5ÎBÒÀìv|¤m*Ý\u0018í^¬±yº¿0Gåÿ</td>\n",
              "      <td>Cross-Site Scripting</td>\n",
              "      <td>AVdahsWJq1Ppo9zF1g73</td>\n",
              "      <td>be917628f6edcdc86d6bdea6edab6c48</td>\n",
              "      <td>29</td>\n",
              "    </tr>\n",
              "  </tbody>\n",
              "</table>\n",
              "<p>63 rows × 5 columns</p>\n",
              "</div>\n",
              "      <button class=\"colab-df-convert\" onclick=\"convertToInteractive('df-47e4e446-0f0d-445a-a490-407a89d7d14b')\"\n",
              "              title=\"Convert this dataframe to an interactive table.\"\n",
              "              style=\"display:none;\">\n",
              "        \n",
              "  <svg xmlns=\"http://www.w3.org/2000/svg\" height=\"24px\"viewBox=\"0 0 24 24\"\n",
              "       width=\"24px\">\n",
              "    <path d=\"M0 0h24v24H0V0z\" fill=\"none\"/>\n",
              "    <path d=\"M18.56 5.44l.94 2.06.94-2.06 2.06-.94-2.06-.94-.94-2.06-.94 2.06-2.06.94zm-11 1L8.5 8.5l.94-2.06 2.06-.94-2.06-.94L8.5 2.5l-.94 2.06-2.06.94zm10 10l.94 2.06.94-2.06 2.06-.94-2.06-.94-.94-2.06-.94 2.06-2.06.94z\"/><path d=\"M17.41 7.96l-1.37-1.37c-.4-.4-.92-.59-1.43-.59-.52 0-1.04.2-1.43.59L10.3 9.45l-7.72 7.72c-.78.78-.78 2.05 0 2.83L4 21.41c.39.39.9.59 1.41.59.51 0 1.02-.2 1.41-.59l7.78-7.78 2.81-2.81c.8-.78.8-2.07 0-2.86zM5.41 20L4 18.59l7.72-7.72 1.47 1.35L5.41 20z\"/>\n",
              "  </svg>\n",
              "      </button>\n",
              "      \n",
              "  <style>\n",
              "    .colab-df-container {\n",
              "      display:flex;\n",
              "      flex-wrap:wrap;\n",
              "      gap: 12px;\n",
              "    }\n",
              "\n",
              "    .colab-df-convert {\n",
              "      background-color: #E8F0FE;\n",
              "      border: none;\n",
              "      border-radius: 50%;\n",
              "      cursor: pointer;\n",
              "      display: none;\n",
              "      fill: #1967D2;\n",
              "      height: 32px;\n",
              "      padding: 0 0 0 0;\n",
              "      width: 32px;\n",
              "    }\n",
              "\n",
              "    .colab-df-convert:hover {\n",
              "      background-color: #E2EBFA;\n",
              "      box-shadow: 0px 1px 2px rgba(60, 64, 67, 0.3), 0px 1px 3px 1px rgba(60, 64, 67, 0.15);\n",
              "      fill: #174EA6;\n",
              "    }\n",
              "\n",
              "    [theme=dark] .colab-df-convert {\n",
              "      background-color: #3B4455;\n",
              "      fill: #D2E3FC;\n",
              "    }\n",
              "\n",
              "    [theme=dark] .colab-df-convert:hover {\n",
              "      background-color: #434B5C;\n",
              "      box-shadow: 0px 1px 3px 1px rgba(0, 0, 0, 0.15);\n",
              "      filter: drop-shadow(0px 1px 2px rgba(0, 0, 0, 0.3));\n",
              "      fill: #FFFFFF;\n",
              "    }\n",
              "  </style>\n",
              "\n",
              "      <script>\n",
              "        const buttonEl =\n",
              "          document.querySelector('#df-47e4e446-0f0d-445a-a490-407a89d7d14b button.colab-df-convert');\n",
              "        buttonEl.style.display =\n",
              "          google.colab.kernel.accessAllowed ? 'block' : 'none';\n",
              "\n",
              "        async function convertToInteractive(key) {\n",
              "          const element = document.querySelector('#df-47e4e446-0f0d-445a-a490-407a89d7d14b');\n",
              "          const dataTable =\n",
              "            await google.colab.kernel.invokeFunction('convertToInteractive',\n",
              "                                                     [key], {});\n",
              "          if (!dataTable) return;\n",
              "\n",
              "          const docLinkHtml = 'Like what you see? Visit the ' +\n",
              "            '<a target=\"_blank\" href=https://colab.research.google.com/notebooks/data_table.ipynb>data table notebook</a>'\n",
              "            + ' to learn more about interactive tables.';\n",
              "          element.innerHTML = '';\n",
              "          dataTable['output_type'] = 'display_data';\n",
              "          await google.colab.output.renderOutput(dataTable, element);\n",
              "          const docLink = document.createElement('div');\n",
              "          docLink.innerHTML = docLinkHtml;\n",
              "          element.appendChild(docLink);\n",
              "        }\n",
              "      </script>\n",
              "    </div>\n",
              "  </div>\n",
              "  "
            ]
          },
          "metadata": {},
          "execution_count": 41
        }
      ]
    },
    {
      "cell_type": "code",
      "source": [
        "subset = analise[analise['cluster'] != 0]"
      ],
      "metadata": {
        "id": "1agAKIjGWqtQ"
      },
      "execution_count": null,
      "outputs": []
    },
    {
      "cell_type": "code",
      "source": [
        "plt.hist(subset['cluster'], edgecolor='black')\n",
        "plt.xticks(range(-1,29, 1))\n",
        "plt.xlim(-1,29)\n",
        "plt.xlabel('номер кластера')\n",
        "plt.ylabel('Количество значений')\n",
        "plt.title('Распределение кластеров')\n",
        "plt.show()"
      ],
      "metadata": {
        "colab": {
          "base_uri": "https://localhost:8080/",
          "height": 472
        },
        "id": "Ebd5NuyPP-hG",
        "outputId": "4caeb98c-858b-4f21-e082-73eed822ec32"
      },
      "execution_count": null,
      "outputs": [
        {
          "output_type": "display_data",
          "data": {
            "text/plain": [
              "<Figure size 640x480 with 1 Axes>"
            ],
            "image/png": "[encoded data removed]"
          },
          "metadata": {}
        }
      ]
    },
    {
      "cell_type": "markdown",
      "source": [
        "## Кластеризация K-Means"
      ],
      "metadata": {
        "id": "kMey2jHXK_WU"
      }
    },
    {
      "cell_type": "code",
      "source": [
        "results = {'n_clusters': [], 'silhouette_score': []}\n",
        "for n_cluster in range(2,50):\n",
        "  kmeans = KMeans(n_clusters=n_cluster, init='k-means++', max_iter=300, n_init=10, random_state=0)\n",
        "  labels = kmeans.fit_predict(X_scaled)\n",
        "  silhouette = silhouette_score(X_scaled, labels)\n",
        "  results['n_clusters'].append(n_cluster)\n",
        "  results['silhouette_score'].append(silhouette)\n",
        "\n",
        "comparison_table = pd.DataFrame(results)"
      ],
      "metadata": {
        "id": "tDi0n-s1K_WV"
      },
      "execution_count": null,
      "outputs": []
    },
    {
      "cell_type": "code",
      "source": [
        "comparison_table.sort_values('silhouette_score',ascending=False)"
      ],
      "metadata": {
        "colab": {
          "base_uri": "https://localhost:8080/",
          "height": 1000
        },
        "outputId": "1a37472e-1aca-481e-9e35-d1b98568aa0e",
        "id": "YCpwbsgxK_WW"
      },
      "execution_count": null,
      "outputs": [
        {
          "output_type": "execute_result",
          "data": {
            "text/plain": [
              "    n_clusters  silhouette_score\n",
              "3            5          0.385778\n",
              "2            4          0.371962\n",
              "16          18          0.341683\n",
              "21          23          0.340011\n",
              "0            2          0.338410\n",
              "20          22          0.337062\n",
              "4            6          0.336868\n",
              "22          24          0.336439\n",
              "9           11          0.334519\n",
              "6            8          0.334447\n",
              "28          30          0.333421\n",
              "39          41          0.333232\n",
              "7            9          0.332943\n",
              "1            3          0.332713\n",
              "5            7          0.332443\n",
              "8           10          0.331736\n",
              "34          36          0.330996\n",
              "38          40          0.330931\n",
              "17          19          0.330722\n",
              "11          13          0.330564\n",
              "36          38          0.328986\n",
              "12          14          0.328969\n",
              "19          21          0.328498\n",
              "27          29          0.327507\n",
              "41          43          0.327231\n",
              "29          31          0.325966\n",
              "24          26          0.325567\n",
              "43          45          0.325526\n",
              "47          49          0.325372\n",
              "18          20          0.324273\n",
              "26          28          0.324272\n",
              "33          35          0.324254\n",
              "25          27          0.324176\n",
              "42          44          0.323349\n",
              "31          33          0.322516\n",
              "37          39          0.321784\n",
              "40          42          0.321750\n",
              "14          16          0.321115\n",
              "10          12          0.320262\n",
              "35          37          0.320160\n",
              "15          17          0.319976\n",
              "30          32          0.319549\n",
              "23          25          0.316863\n",
              "46          48          0.316535\n",
              "13          15          0.314948\n",
              "32          34          0.314330\n",
              "45          47          0.308350\n",
              "44          46          0.294336"
            ],
            "text/html": [
              "\n",
              "  <div id=\"df-90c6840d-b1a7-458e-80fc-6131c7932093\">\n",
              "    <div class=\"colab-df-container\">\n",
              "      <div>\n",
              "<style scoped>\n",
              "    .dataframe tbody tr th:only-of-type {\n",
              "        vertical-align: middle;\n",
              "    }\n",
              "\n",
              "    .dataframe tbody tr th {\n",
              "        vertical-align: top;\n",
              "    }\n",
              "\n",
              "    .dataframe thead th {\n",
              "        text-align: right;\n",
              "    }\n",
              "</style>\n",
              "<table border=\"1\" class=\"dataframe\">\n",
              "  <thead>\n",
              "    <tr style=\"text-align: right;\">\n",
              "      <th></th>\n",
              "      <th>n_clusters</th>\n",
              "      <th>silhouette_score</th>\n",
              "    </tr>\n",
              "  </thead>\n",
              "  <tbody>\n",
              "    <tr>\n",
              "      <th>3</th>\n",
              "      <td>5</td>\n",
              "      <td>0.385778</td>\n",
              "    </tr>\n",
              "    <tr>\n",
              "      <th>2</th>\n",
              "      <td>4</td>\n",
              "      <td>0.371962</td>\n",
              "    </tr>\n",
              "    <tr>\n",
              "      <th>16</th>\n",
              "      <td>18</td>\n",
              "      <td>0.341683</td>\n",
              "    </tr>\n",
              "    <tr>\n",
              "      <th>21</th>\n",
              "      <td>23</td>\n",
              "      <td>0.340011</td>\n",
              "    </tr>\n",
              "    <tr>\n",
              "      <th>0</th>\n",
              "      <td>2</td>\n",
              "      <td>0.338410</td>\n",
              "    </tr>\n",
              "    <tr>\n",
              "      <th>20</th>\n",
              "      <td>22</td>\n",
              "      <td>0.337062</td>\n",
              "    </tr>\n",
              "    <tr>\n",
              "      <th>4</th>\n",
              "      <td>6</td>\n",
              "      <td>0.336868</td>\n",
              "    </tr>\n",
              "    <tr>\n",
              "      <th>22</th>\n",
              "      <td>24</td>\n",
              "      <td>0.336439</td>\n",
              "    </tr>\n",
              "    <tr>\n",
              "      <th>9</th>\n",
              "      <td>11</td>\n",
              "      <td>0.334519</td>\n",
              "    </tr>\n",
              "    <tr>\n",
              "      <th>6</th>\n",
              "      <td>8</td>\n",
              "      <td>0.334447</td>\n",
              "    </tr>\n",
              "    <tr>\n",
              "      <th>28</th>\n",
              "      <td>30</td>\n",
              "      <td>0.333421</td>\n",
              "    </tr>\n",
              "    <tr>\n",
              "      <th>39</th>\n",
              "      <td>41</td>\n",
              "      <td>0.333232</td>\n",
              "    </tr>\n",
              "    <tr>\n",
              "      <th>7</th>\n",
              "      <td>9</td>\n",
              "      <td>0.332943</td>\n",
              "    </tr>\n",
              "    <tr>\n",
              "      <th>1</th>\n",
              "      <td>3</td>\n",
              "      <td>0.332713</td>\n",
              "    </tr>\n",
              "    <tr>\n",
              "      <th>5</th>\n",
              "      <td>7</td>\n",
              "      <td>0.332443</td>\n",
              "    </tr>\n",
              "    <tr>\n",
              "      <th>8</th>\n",
              "      <td>10</td>\n",
              "      <td>0.331736</td>\n",
              "    </tr>\n",
              "    <tr>\n",
              "      <th>34</th>\n",
              "      <td>36</td>\n",
              "      <td>0.330996</td>\n",
              "    </tr>\n",
              "    <tr>\n",
              "      <th>38</th>\n",
              "      <td>40</td>\n",
              "      <td>0.330931</td>\n",
              "    </tr>\n",
              "    <tr>\n",
              "      <th>17</th>\n",
              "      <td>19</td>\n",
              "      <td>0.330722</td>\n",
              "    </tr>\n",
              "    <tr>\n",
              "      <th>11</th>\n",
              "      <td>13</td>\n",
              "      <td>0.330564</td>\n",
              "    </tr>\n",
              "    <tr>\n",
              "      <th>36</th>\n",
              "      <td>38</td>\n",
              "      <td>0.328986</td>\n",
              "    </tr>\n",
              "    <tr>\n",
              "      <th>12</th>\n",
              "      <td>14</td>\n",
              "      <td>0.328969</td>\n",
              "    </tr>\n",
              "    <tr>\n",
              "      <th>19</th>\n",
              "      <td>21</td>\n",
              "      <td>0.328498</td>\n",
              "    </tr>\n",
              "    <tr>\n",
              "      <th>27</th>\n",
              "      <td>29</td>\n",
              "      <td>0.327507</td>\n",
              "    </tr>\n",
              "    <tr>\n",
              "      <th>41</th>\n",
              "      <td>43</td>\n",
              "      <td>0.327231</td>\n",
              "    </tr>\n",
              "    <tr>\n",
              "      <th>29</th>\n",
              "      <td>31</td>\n",
              "      <td>0.325966</td>\n",
              "    </tr>\n",
              "    <tr>\n",
              "      <th>24</th>\n",
              "      <td>26</td>\n",
              "      <td>0.325567</td>\n",
              "    </tr>\n",
              "    <tr>\n",
              "      <th>43</th>\n",
              "      <td>45</td>\n",
              "      <td>0.325526</td>\n",
              "    </tr>\n",
              "    <tr>\n",
              "      <th>47</th>\n",
              "      <td>49</td>\n",
              "      <td>0.325372</td>\n",
              "    </tr>\n",
              "    <tr>\n",
              "      <th>18</th>\n",
              "      <td>20</td>\n",
              "      <td>0.324273</td>\n",
              "    </tr>\n",
              "    <tr>\n",
              "      <th>26</th>\n",
              "      <td>28</td>\n",
              "      <td>0.324272</td>\n",
              "    </tr>\n",
              "    <tr>\n",
              "      <th>33</th>\n",
              "      <td>35</td>\n",
              "      <td>0.324254</td>\n",
              "    </tr>\n",
              "    <tr>\n",
              "      <th>25</th>\n",
              "      <td>27</td>\n",
              "      <td>0.324176</td>\n",
              "    </tr>\n",
              "    <tr>\n",
              "      <th>42</th>\n",
              "      <td>44</td>\n",
              "      <td>0.323349</td>\n",
              "    </tr>\n",
              "    <tr>\n",
              "      <th>31</th>\n",
              "      <td>33</td>\n",
              "      <td>0.322516</td>\n",
              "    </tr>\n",
              "    <tr>\n",
              "      <th>37</th>\n",
              "      <td>39</td>\n",
              "      <td>0.321784</td>\n",
              "    </tr>\n",
              "    <tr>\n",
              "      <th>40</th>\n",
              "      <td>42</td>\n",
              "      <td>0.321750</td>\n",
              "    </tr>\n",
              "    <tr>\n",
              "      <th>14</th>\n",
              "      <td>16</td>\n",
              "      <td>0.321115</td>\n",
              "    </tr>\n",
              "    <tr>\n",
              "      <th>10</th>\n",
              "      <td>12</td>\n",
              "      <td>0.320262</td>\n",
              "    </tr>\n",
              "    <tr>\n",
              "      <th>35</th>\n",
              "      <td>37</td>\n",
              "      <td>0.320160</td>\n",
              "    </tr>\n",
              "    <tr>\n",
              "      <th>15</th>\n",
              "      <td>17</td>\n",
              "      <td>0.319976</td>\n",
              "    </tr>\n",
              "    <tr>\n",
              "      <th>30</th>\n",
              "      <td>32</td>\n",
              "      <td>0.319549</td>\n",
              "    </tr>\n",
              "    <tr>\n",
              "      <th>23</th>\n",
              "      <td>25</td>\n",
              "      <td>0.316863</td>\n",
              "    </tr>\n",
              "    <tr>\n",
              "      <th>46</th>\n",
              "      <td>48</td>\n",
              "      <td>0.316535</td>\n",
              "    </tr>\n",
              "    <tr>\n",
              "      <th>13</th>\n",
              "      <td>15</td>\n",
              "      <td>0.314948</td>\n",
              "    </tr>\n",
              "    <tr>\n",
              "      <th>32</th>\n",
              "      <td>34</td>\n",
              "      <td>0.314330</td>\n",
              "    </tr>\n",
              "    <tr>\n",
              "      <th>45</th>\n",
              "      <td>47</td>\n",
              "      <td>0.308350</td>\n",
              "    </tr>\n",
              "    <tr>\n",
              "      <th>44</th>\n",
              "      <td>46</td>\n",
              "      <td>0.294336</td>\n",
              "    </tr>\n",
              "  </tbody>\n",
              "</table>\n",
              "</div>\n",
              "      <button class=\"colab-df-convert\" onclick=\"convertToInteractive('df-90c6840d-b1a7-458e-80fc-6131c7932093')\"\n",
              "              title=\"Convert this dataframe to an interactive table.\"\n",
              "              style=\"display:none;\">\n",
              "        \n",
              "  <svg xmlns=\"http://www.w3.org/2000/svg\" height=\"24px\"viewBox=\"0 0 24 24\"\n",
              "       width=\"24px\">\n",
              "    <path d=\"M0 0h24v24H0V0z\" fill=\"none\"/>\n",
              "    <path d=\"M18.56 5.44l.94 2.06.94-2.06 2.06-.94-2.06-.94-.94-2.06-.94 2.06-2.06.94zm-11 1L8.5 8.5l.94-2.06 2.06-.94-2.06-.94L8.5 2.5l-.94 2.06-2.06.94zm10 10l.94 2.06.94-2.06 2.06-.94-2.06-.94-.94-2.06-.94 2.06-2.06.94z\"/><path d=\"M17.41 7.96l-1.37-1.37c-.4-.4-.92-.59-1.43-.59-.52 0-1.04.2-1.43.59L10.3 9.45l-7.72 7.72c-.78.78-.78 2.05 0 2.83L4 21.41c.39.39.9.59 1.41.59.51 0 1.02-.2 1.41-.59l7.78-7.78 2.81-2.81c.8-.78.8-2.07 0-2.86zM5.41 20L4 18.59l7.72-7.72 1.47 1.35L5.41 20z\"/>\n",
              "  </svg>\n",
              "      </button>\n",
              "      \n",
              "  <style>\n",
              "    .colab-df-container {\n",
              "      display:flex;\n",
              "      flex-wrap:wrap;\n",
              "      gap: 12px;\n",
              "    }\n",
              "\n",
              "    .colab-df-convert {\n",
              "      background-color: #E8F0FE;\n",
              "      border: none;\n",
              "      border-radius: 50%;\n",
              "      cursor: pointer;\n",
              "      display: none;\n",
              "      fill: #1967D2;\n",
              "      height: 32px;\n",
              "      padding: 0 0 0 0;\n",
              "      width: 32px;\n",
              "    }\n",
              "\n",
              "    .colab-df-convert:hover {\n",
              "      background-color: #E2EBFA;\n",
              "      box-shadow: 0px 1px 2px rgba(60, 64, 67, 0.3), 0px 1px 3px 1px rgba(60, 64, 67, 0.15);\n",
              "      fill: #174EA6;\n",
              "    }\n",
              "\n",
              "    [theme=dark] .colab-df-convert {\n",
              "      background-color: #3B4455;\n",
              "      fill: #D2E3FC;\n",
              "    }\n",
              "\n",
              "    [theme=dark] .colab-df-convert:hover {\n",
              "      background-color: #434B5C;\n",
              "      box-shadow: 0px 1px 3px 1px rgba(0, 0, 0, 0.15);\n",
              "      filter: drop-shadow(0px 1px 2px rgba(0, 0, 0, 0.3));\n",
              "      fill: #FFFFFF;\n",
              "    }\n",
              "  </style>\n",
              "\n",
              "      <script>\n",
              "        const buttonEl =\n",
              "          document.querySelector('#df-90c6840d-b1a7-458e-80fc-6131c7932093 button.colab-df-convert');\n",
              "        buttonEl.style.display =\n",
              "          google.colab.kernel.accessAllowed ? 'block' : 'none';\n",
              "\n",
              "        async function convertToInteractive(key) {\n",
              "          const element = document.querySelector('#df-90c6840d-b1a7-458e-80fc-6131c7932093');\n",
              "          const dataTable =\n",
              "            await google.colab.kernel.invokeFunction('convertToInteractive',\n",
              "                                                     [key], {});\n",
              "          if (!dataTable) return;\n",
              "\n",
              "          const docLinkHtml = 'Like what you see? Visit the ' +\n",
              "            '<a target=\"_blank\" href=https://colab.research.google.com/notebooks/data_table.ipynb>data table notebook</a>'\n",
              "            + ' to learn more about interactive tables.';\n",
              "          element.innerHTML = '';\n",
              "          dataTable['output_type'] = 'display_data';\n",
              "          await google.colab.output.renderOutput(dataTable, element);\n",
              "          const docLink = document.createElement('div');\n",
              "          docLink.innerHTML = docLinkHtml;\n",
              "          element.appendChild(docLink);\n",
              "        }\n",
              "      </script>\n",
              "    </div>\n",
              "  </div>\n",
              "  "
            ]
          },
          "metadata": {},
          "execution_count": 46
        }
      ]
    },
    {
      "cell_type": "code",
      "source": [
        "kmeans = KMeans(n_clusters=30, init='k-means++', max_iter=300, n_init=10, random_state=0)\n",
        "kmeans.fit(X_scaled)"
      ],
      "metadata": {
        "colab": {
          "base_uri": "https://localhost:8080/",
          "height": 75
        },
        "outputId": "e83e5613-0820-43aa-d1c6-2042aacbe587",
        "id": "VH_hdh2eK_WW"
      },
      "execution_count": null,
      "outputs": [
        {
          "output_type": "execute_result",
          "data": {
            "text/plain": [
              "KMeans(n_clusters=30, n_init=10, random_state=0)"
            ],
            "text/html": [
              "<style>#sk-container-id-2 {color: black;background-color: white;}#sk-container-id-2 pre{padding: 0;}#sk-container-id-2 div.sk-toggleable {background-color: white;}#sk-container-id-2 label.sk-toggleable__label {cursor: pointer;display: block;width: 100%;margin-bottom: 0;padding: 0.3em;box-sizing: border-box;text-align: center;}#sk-container-id-2 label.sk-toggleable__label-arrow:before {content: \"▸\";float: left;margin-right: 0.25em;color: #696969;}#sk-container-id-2 label.sk-toggleable__label-arrow:hover:before {color: black;}#sk-container-id-2 div.sk-estimator:hover label.sk-toggleable__label-arrow:before {color: black;}#sk-container-id-2 div.sk-toggleable__content {max-height: 0;max-width: 0;overflow: hidden;text-align: left;background-color: #f0f8ff;}#sk-container-id-2 div.sk-toggleable__content pre {margin: 0.2em;color: black;border-radius: 0.25em;background-color: #f0f8ff;}#sk-container-id-2 input.sk-toggleable__control:checked~div.sk-toggleable__content {max-height: 200px;max-width: 100%;overflow: auto;}#sk-container-id-2 input.sk-toggleable__control:checked~label.sk-toggleable__label-arrow:before {content: \"▾\";}#sk-container-id-2 div.sk-estimator input.sk-toggleable__control:checked~label.sk-toggleable__label {background-color: #d4ebff;}#sk-container-id-2 div.sk-label input.sk-toggleable__control:checked~label.sk-toggleable__label {background-color: #d4ebff;}#sk-container-id-2 input.sk-hidden--visually {border: 0;clip: rect(1px 1px 1px 1px);clip: rect(1px, 1px, 1px, 1px);height: 1px;margin: -1px;overflow: hidden;padding: 0;position: absolute;width: 1px;}#sk-container-id-2 div.sk-estimator {font-family: monospace;background-color: #f0f8ff;border: 1px dotted black;border-radius: 0.25em;box-sizing: border-box;margin-bottom: 0.5em;}#sk-container-id-2 div.sk-estimator:hover {background-color: #d4ebff;}#sk-container-id-2 div.sk-parallel-item::after {content: \"\";width: 100%;border-bottom: 1px solid gray;flex-grow: 1;}#sk-container-id-2 div.sk-label:hover label.sk-toggleable__label {background-color: #d4ebff;}#sk-container-id-2 div.sk-serial::before {content: \"\";position: absolute;border-left: 1px solid gray;box-sizing: border-box;top: 0;bottom: 0;left: 50%;z-index: 0;}#sk-container-id-2 div.sk-serial {display: flex;flex-direction: column;align-items: center;background-color: white;padding-right: 0.2em;padding-left: 0.2em;position: relative;}#sk-container-id-2 div.sk-item {position: relative;z-index: 1;}#sk-container-id-2 div.sk-parallel {display: flex;align-items: stretch;justify-content: center;background-color: white;position: relative;}#sk-container-id-2 div.sk-item::before, #sk-container-id-2 div.sk-parallel-item::before {content: \"\";position: absolute;border-left: 1px solid gray;box-sizing: border-box;top: 0;bottom: 0;left: 50%;z-index: -1;}#sk-container-id-2 div.sk-parallel-item {display: flex;flex-direction: column;z-index: 1;position: relative;background-color: white;}#sk-container-id-2 div.sk-parallel-item:first-child::after {align-self: flex-end;width: 50%;}#sk-container-id-2 div.sk-parallel-item:last-child::after {align-self: flex-start;width: 50%;}#sk-container-id-2 div.sk-parallel-item:only-child::after {width: 0;}#sk-container-id-2 div.sk-dashed-wrapped {border: 1px dashed gray;margin: 0 0.4em 0.5em 0.4em;box-sizing: border-box;padding-bottom: 0.4em;background-color: white;}#sk-container-id-2 div.sk-label label {font-family: monospace;font-weight: bold;display: inline-block;line-height: 1.2em;}#sk-container-id-2 div.sk-label-container {text-align: center;}#sk-container-id-2 div.sk-container {/* jupyter's `normalize.less` sets `[hidden] { display: none; }` but bootstrap.min.css set `[hidden] { display: none !important; }` so we also need the `!important` here to be able to override the default hidden behavior on the sphinx rendered scikit-learn.org. See: https://github.com/scikit-learn/scikit-learn/issues/21755 */display: inline-block !important;position: relative;}#sk-container-id-2 div.sk-text-repr-fallback {display: none;}</style><div id=\"sk-container-id-2\" class=\"sk-top-container\"><div class=\"sk-text-repr-fallback\"><pre>KMeans(n_clusters=30, n_init=10, random_state=0)</pre><b>In a Jupyter environment, please rerun this cell to show the HTML representation or trust the notebook. <br />On GitHub, the HTML representation is unable to render, please try loading this page with nbviewer.org.</b></div><div class=\"sk-container\" hidden><div class=\"sk-item\"><div class=\"sk-estimator sk-toggleable\"><input class=\"sk-toggleable__control sk-hidden--visually\" id=\"sk-estimator-id-2\" type=\"checkbox\" checked><label for=\"sk-estimator-id-2\" class=\"sk-toggleable__label sk-toggleable__label-arrow\">KMeans</label><div class=\"sk-toggleable__content\"><pre>KMeans(n_clusters=30, n_init=10, random_state=0)</pre></div></div></div></div></div>"
            ]
          },
          "metadata": {},
          "execution_count": 44
        }
      ]
    },
    {
      "cell_type": "code",
      "source": [
        "kmeans.labels_"
      ],
      "metadata": {
        "id": "6YujPdnaLXV2",
        "colab": {
          "base_uri": "https://localhost:8080/"
        },
        "outputId": "cc14ffce-2ca1-4881-fcc6-4dff97f6250f"
      },
      "execution_count": null,
      "outputs": [
        {
          "output_type": "execute_result",
          "data": {
            "text/plain": [
              "array([25, 25, 13, ..., 12, 12, 12], dtype=int32)"
            ]
          },
          "metadata": {},
          "execution_count": 45
        }
      ]
    },
    {
      "cell_type": "code",
      "source": [
        "analise_kmeans=data_base.copy()\n",
        "label = kmeans.labels_\n",
        "analise_kmeans['cluster'] = label\n",
        "\n",
        "for i in range(-1, max(label)+1):\n",
        "  print('\\nCluster', i)\n",
        "  cluster_data = analise_kmeans[analise_kmeans['cluster'] == i]\n",
        "  print(cluster_data.describe())"
      ],
      "metadata": {
        "colab": {
          "base_uri": "https://localhost:8080/"
        },
        "id": "NNT8o11JLM1e",
        "outputId": "9e56ff95-cf07-47b8-80f5-9abb0b888480"
      },
      "execution_count": null,
      "outputs": [
        {
          "output_type": "stream",
          "name": "stdout",
          "text": [
            "\n",
            "Cluster -1\n",
            "       cluster\n",
            "count      0.0\n",
            "mean       NaN\n",
            "std        NaN\n",
            "min        NaN\n",
            "25%        NaN\n",
            "50%        NaN\n",
            "75%        NaN\n",
            "max        NaN\n",
            "\n",
            "Cluster 0\n",
            "       cluster\n",
            "count   5508.0\n",
            "mean       0.0\n",
            "std        0.0\n",
            "min        0.0\n",
            "25%        0.0\n",
            "50%        0.0\n",
            "75%        0.0\n",
            "max        0.0\n",
            "\n",
            "Cluster 1\n",
            "       cluster\n",
            "count   1851.0\n",
            "mean       1.0\n",
            "std        0.0\n",
            "min        1.0\n",
            "25%        1.0\n",
            "50%        1.0\n",
            "75%        1.0\n",
            "max        1.0\n",
            "\n",
            "Cluster 2\n",
            "       cluster\n",
            "count   3537.0\n",
            "mean       2.0\n",
            "std        0.0\n",
            "min        2.0\n",
            "25%        2.0\n",
            "50%        2.0\n",
            "75%        2.0\n",
            "max        2.0\n",
            "\n",
            "Cluster 3\n",
            "       cluster\n",
            "count    656.0\n",
            "mean       3.0\n",
            "std        0.0\n",
            "min        3.0\n",
            "25%        3.0\n",
            "50%        3.0\n",
            "75%        3.0\n",
            "max        3.0\n",
            "\n",
            "Cluster 4\n",
            "       cluster\n",
            "count   2575.0\n",
            "mean       4.0\n",
            "std        0.0\n",
            "min        4.0\n",
            "25%        4.0\n",
            "50%        4.0\n",
            "75%        4.0\n",
            "max        4.0\n",
            "\n",
            "Cluster 5\n",
            "       cluster\n",
            "count    279.0\n",
            "mean       5.0\n",
            "std        0.0\n",
            "min        5.0\n",
            "25%        5.0\n",
            "50%        5.0\n",
            "75%        5.0\n",
            "max        5.0\n",
            "\n",
            "Cluster 6\n",
            "       cluster\n",
            "count   2648.0\n",
            "mean       6.0\n",
            "std        0.0\n",
            "min        6.0\n",
            "25%        6.0\n",
            "50%        6.0\n",
            "75%        6.0\n",
            "max        6.0\n",
            "\n",
            "Cluster 7\n",
            "       cluster\n",
            "count   1994.0\n",
            "mean       7.0\n",
            "std        0.0\n",
            "min        7.0\n",
            "25%        7.0\n",
            "50%        7.0\n",
            "75%        7.0\n",
            "max        7.0\n",
            "\n",
            "Cluster 8\n",
            "       cluster\n",
            "count    143.0\n",
            "mean       8.0\n",
            "std        0.0\n",
            "min        8.0\n",
            "25%        8.0\n",
            "50%        8.0\n",
            "75%        8.0\n",
            "max        8.0\n",
            "\n",
            "Cluster 9\n",
            "       cluster\n",
            "count   1881.0\n",
            "mean       9.0\n",
            "std        0.0\n",
            "min        9.0\n",
            "25%        9.0\n",
            "50%        9.0\n",
            "75%        9.0\n",
            "max        9.0\n",
            "\n",
            "Cluster 10\n",
            "       cluster\n",
            "count    593.0\n",
            "mean      10.0\n",
            "std        0.0\n",
            "min       10.0\n",
            "25%       10.0\n",
            "50%       10.0\n",
            "75%       10.0\n",
            "max       10.0\n",
            "\n",
            "Cluster 11\n",
            "       cluster\n",
            "count   1573.0\n",
            "mean      11.0\n",
            "std        0.0\n",
            "min       11.0\n",
            "25%       11.0\n",
            "50%       11.0\n",
            "75%       11.0\n",
            "max       11.0\n",
            "\n",
            "Cluster 12\n",
            "       cluster\n",
            "count     25.0\n",
            "mean      12.0\n",
            "std        0.0\n",
            "min       12.0\n",
            "25%       12.0\n",
            "50%       12.0\n",
            "75%       12.0\n",
            "max       12.0\n",
            "\n",
            "Cluster 13\n",
            "       cluster\n",
            "count   7770.0\n",
            "mean      13.0\n",
            "std        0.0\n",
            "min       13.0\n",
            "25%       13.0\n",
            "50%       13.0\n",
            "75%       13.0\n",
            "max       13.0\n",
            "\n",
            "Cluster 14\n",
            "       cluster\n",
            "count   1478.0\n",
            "mean      14.0\n",
            "std        0.0\n",
            "min       14.0\n",
            "25%       14.0\n",
            "50%       14.0\n",
            "75%       14.0\n",
            "max       14.0\n",
            "\n",
            "Cluster 15\n",
            "       cluster\n",
            "count   1318.0\n",
            "mean      15.0\n",
            "std        0.0\n",
            "min       15.0\n",
            "25%       15.0\n",
            "50%       15.0\n",
            "75%       15.0\n",
            "max       15.0\n",
            "\n",
            "Cluster 16\n",
            "       cluster\n",
            "count    614.0\n",
            "mean      16.0\n",
            "std        0.0\n",
            "min       16.0\n",
            "25%       16.0\n",
            "50%       16.0\n",
            "75%       16.0\n",
            "max       16.0\n",
            "\n",
            "Cluster 17\n",
            "       cluster\n",
            "count    510.0\n",
            "mean      17.0\n",
            "std        0.0\n",
            "min       17.0\n",
            "25%       17.0\n",
            "50%       17.0\n",
            "75%       17.0\n",
            "max       17.0\n",
            "\n",
            "Cluster 18\n",
            "       cluster\n",
            "count   2578.0\n",
            "mean      18.0\n",
            "std        0.0\n",
            "min       18.0\n",
            "25%       18.0\n",
            "50%       18.0\n",
            "75%       18.0\n",
            "max       18.0\n",
            "\n",
            "Cluster 19\n",
            "       cluster\n",
            "count    553.0\n",
            "mean      19.0\n",
            "std        0.0\n",
            "min       19.0\n",
            "25%       19.0\n",
            "50%       19.0\n",
            "75%       19.0\n",
            "max       19.0\n",
            "\n",
            "Cluster 20\n",
            "       cluster\n",
            "count   3341.0\n",
            "mean      20.0\n",
            "std        0.0\n",
            "min       20.0\n",
            "25%       20.0\n",
            "50%       20.0\n",
            "75%       20.0\n",
            "max       20.0\n",
            "\n",
            "Cluster 21\n",
            "       cluster\n",
            "count   1282.0\n",
            "mean      21.0\n",
            "std        0.0\n",
            "min       21.0\n",
            "25%       21.0\n",
            "50%       21.0\n",
            "75%       21.0\n",
            "max       21.0\n",
            "\n",
            "Cluster 22\n",
            "       cluster\n",
            "count   1271.0\n",
            "mean      22.0\n",
            "std        0.0\n",
            "min       22.0\n",
            "25%       22.0\n",
            "50%       22.0\n",
            "75%       22.0\n",
            "max       22.0\n",
            "\n",
            "Cluster 23\n",
            "       cluster\n",
            "count   1489.0\n",
            "mean      23.0\n",
            "std        0.0\n",
            "min       23.0\n",
            "25%       23.0\n",
            "50%       23.0\n",
            "75%       23.0\n",
            "max       23.0\n",
            "\n",
            "Cluster 24\n",
            "       cluster\n",
            "count   1546.0\n",
            "mean      24.0\n",
            "std        0.0\n",
            "min       24.0\n",
            "25%       24.0\n",
            "50%       24.0\n",
            "75%       24.0\n",
            "max       24.0\n",
            "\n",
            "Cluster 25\n",
            "       cluster\n",
            "count   4367.0\n",
            "mean      25.0\n",
            "std        0.0\n",
            "min       25.0\n",
            "25%       25.0\n",
            "50%       25.0\n",
            "75%       25.0\n",
            "max       25.0\n",
            "\n",
            "Cluster 26\n",
            "       cluster\n",
            "count     39.0\n",
            "mean      26.0\n",
            "std        0.0\n",
            "min       26.0\n",
            "25%       26.0\n",
            "50%       26.0\n",
            "75%       26.0\n",
            "max       26.0\n",
            "\n",
            "Cluster 27\n",
            "       cluster\n",
            "count   2262.0\n",
            "mean      27.0\n",
            "std        0.0\n",
            "min       27.0\n",
            "25%       27.0\n",
            "50%       27.0\n",
            "75%       27.0\n",
            "max       27.0\n",
            "\n",
            "Cluster 28\n",
            "       cluster\n",
            "count   2081.0\n",
            "mean      28.0\n",
            "std        0.0\n",
            "min       28.0\n",
            "25%       28.0\n",
            "50%       28.0\n",
            "75%       28.0\n",
            "max       28.0\n",
            "\n",
            "Cluster 29\n",
            "       cluster\n",
            "count   2028.0\n",
            "mean      29.0\n",
            "std        0.0\n",
            "min       29.0\n",
            "25%       29.0\n",
            "50%       29.0\n",
            "75%       29.0\n",
            "max       29.0\n"
          ]
        }
      ]
    },
    {
      "cell_type": "code",
      "source": [
        "analise_kmeans[analise_kmeans['cluster']==28]"
      ],
      "metadata": {
        "colab": {
          "base_uri": "https://localhost:8080/",
          "height": 424
        },
        "id": "aXfmES_lY3NN",
        "outputId": "9c750710-c68a-4b5f-8c53-c0958ee1428f"
      },
      "execution_count": null,
      "outputs": [
        {
          "output_type": "execute_result",
          "data": {
            "text/plain": [
              "            CLIENT_IP                                   CLIENT_USERAGENT  \\\n",
              "10777  217.147.21.122  Mozilla/5.0 (Windows NT 6.1; WOW64) AppleWebKi...   \n",
              "10828   83.220.238.74  Mozilla/5.0 (iPhone; CPU iPhone OS 10_3_3 like...   \n",
              "10910   93.80.225.164  Mozilla/5.0 (Macintosh; Intel Mac OS X 10_11_6...   \n",
              "10978      46.4.32.75  Mozilla/5.0 (compatible; MJ12bot/v1.4.5; http:...   \n",
              "11004  213.87.157.178  Mozilla/5.0 (Linux; Android 7.0; FRD-L19 Build...   \n",
              "...               ...                                                ...   \n",
              "57304   92.39.220.107  Mozilla/5.0 (Windows NT 10.0; Win64; x64; rv:5...   \n",
              "57343   176.59.52.120  Mozilla/5.0 (iPhone; CPU iPhone OS 11_2_2 like...   \n",
              "57377  217.66.154.165  Mozilla/5.0 (iPhone; CPU iPhone OS 10_3_3 like...   \n",
              "57384  109.86.177.218  Mozilla/5.0 (Windows; U; Windows NT 5.1; pt-PT...   \n",
              "57402  188.254.58.142  Mozilla/5.0 (Windows NT 6.1; rv:52.0) Gecko/20...   \n",
              "\n",
              "      REQUEST_SIZE RESPONSE_CODE  cluster  \n",
              "10777         1628           404       28  \n",
              "10828          895           404       28  \n",
              "10910         1335           404       28  \n",
              "10978          509           404       28  \n",
              "11004          978           404       28  \n",
              "...            ...           ...      ...  \n",
              "57304         1567           404       28  \n",
              "57343         1052           404       28  \n",
              "57377         1319           404       28  \n",
              "57384          739           302       28  \n",
              "57402         1395           404       28  \n",
              "\n",
              "[2081 rows x 5 columns]"
            ],
            "text/html": [
              "\n",
              "  <div id=\"df-76d89436-c59a-46e2-b0df-511aa507c512\">\n",
              "    <div class=\"colab-df-container\">\n",
              "      <div>\n",
              "<style scoped>\n",
              "    .dataframe tbody tr th:only-of-type {\n",
              "        vertical-align: middle;\n",
              "    }\n",
              "\n",
              "    .dataframe tbody tr th {\n",
              "        vertical-align: top;\n",
              "    }\n",
              "\n",
              "    .dataframe thead th {\n",
              "        text-align: right;\n",
              "    }\n",
              "</style>\n",
              "<table border=\"1\" class=\"dataframe\">\n",
              "  <thead>\n",
              "    <tr style=\"text-align: right;\">\n",
              "      <th></th>\n",
              "      <th>CLIENT_IP</th>\n",
              "      <th>CLIENT_USERAGENT</th>\n",
              "      <th>REQUEST_SIZE</th>\n",
              "      <th>RESPONSE_CODE</th>\n",
              "      <th>cluster</th>\n",
              "    </tr>\n",
              "  </thead>\n",
              "  <tbody>\n",
              "    <tr>\n",
              "      <th>10777</th>\n",
              "      <td>217.147.21.122</td>\n",
              "      <td>Mozilla/5.0 (Windows NT 6.1; WOW64) AppleWebKi...</td>\n",
              "      <td>1628</td>\n",
              "      <td>404</td>\n",
              "      <td>28</td>\n",
              "    </tr>\n",
              "    <tr>\n",
              "      <th>10828</th>\n",
              "      <td>83.220.238.74</td>\n",
              "      <td>Mozilla/5.0 (iPhone; CPU iPhone OS 10_3_3 like...</td>\n",
              "      <td>895</td>\n",
              "      <td>404</td>\n",
              "      <td>28</td>\n",
              "    </tr>\n",
              "    <tr>\n",
              "      <th>10910</th>\n",
              "      <td>93.80.225.164</td>\n",
              "      <td>Mozilla/5.0 (Macintosh; Intel Mac OS X 10_11_6...</td>\n",
              "      <td>1335</td>\n",
              "      <td>404</td>\n",
              "      <td>28</td>\n",
              "    </tr>\n",
              "    <tr>\n",
              "      <th>10978</th>\n",
              "      <td>46.4.32.75</td>\n",
              "      <td>Mozilla/5.0 (compatible; MJ12bot/v1.4.5; http:...</td>\n",
              "      <td>509</td>\n",
              "      <td>404</td>\n",
              "      <td>28</td>\n",
              "    </tr>\n",
              "    <tr>\n",
              "      <th>11004</th>\n",
              "      <td>213.87.157.178</td>\n",
              "      <td>Mozilla/5.0 (Linux; Android 7.0; FRD-L19 Build...</td>\n",
              "      <td>978</td>\n",
              "      <td>404</td>\n",
              "      <td>28</td>\n",
              "    </tr>\n",
              "    <tr>\n",
              "      <th>...</th>\n",
              "      <td>...</td>\n",
              "      <td>...</td>\n",
              "      <td>...</td>\n",
              "      <td>...</td>\n",
              "      <td>...</td>\n",
              "    </tr>\n",
              "    <tr>\n",
              "      <th>57304</th>\n",
              "      <td>92.39.220.107</td>\n",
              "      <td>Mozilla/5.0 (Windows NT 10.0; Win64; x64; rv:5...</td>\n",
              "      <td>1567</td>\n",
              "      <td>404</td>\n",
              "      <td>28</td>\n",
              "    </tr>\n",
              "    <tr>\n",
              "      <th>57343</th>\n",
              "      <td>176.59.52.120</td>\n",
              "      <td>Mozilla/5.0 (iPhone; CPU iPhone OS 11_2_2 like...</td>\n",
              "      <td>1052</td>\n",
              "      <td>404</td>\n",
              "      <td>28</td>\n",
              "    </tr>\n",
              "    <tr>\n",
              "      <th>57377</th>\n",
              "      <td>217.66.154.165</td>\n",
              "      <td>Mozilla/5.0 (iPhone; CPU iPhone OS 10_3_3 like...</td>\n",
              "      <td>1319</td>\n",
              "      <td>404</td>\n",
              "      <td>28</td>\n",
              "    </tr>\n",
              "    <tr>\n",
              "      <th>57384</th>\n",
              "      <td>109.86.177.218</td>\n",
              "      <td>Mozilla/5.0 (Windows; U; Windows NT 5.1; pt-PT...</td>\n",
              "      <td>739</td>\n",
              "      <td>302</td>\n",
              "      <td>28</td>\n",
              "    </tr>\n",
              "    <tr>\n",
              "      <th>57402</th>\n",
              "      <td>188.254.58.142</td>\n",
              "      <td>Mozilla/5.0 (Windows NT 6.1; rv:52.0) Gecko/20...</td>\n",
              "      <td>1395</td>\n",
              "      <td>404</td>\n",
              "      <td>28</td>\n",
              "    </tr>\n",
              "  </tbody>\n",
              "</table>\n",
              "<p>2081 rows × 5 columns</p>\n",
              "</div>\n",
              "      <button class=\"colab-df-convert\" onclick=\"convertToInteractive('df-76d89436-c59a-46e2-b0df-511aa507c512')\"\n",
              "              title=\"Convert this dataframe to an interactive table.\"\n",
              "              style=\"display:none;\">\n",
              "        \n",
              "  <svg xmlns=\"http://www.w3.org/2000/svg\" height=\"24px\"viewBox=\"0 0 24 24\"\n",
              "       width=\"24px\">\n",
              "    <path d=\"M0 0h24v24H0V0z\" fill=\"none\"/>\n",
              "    <path d=\"M18.56 5.44l.94 2.06.94-2.06 2.06-.94-2.06-.94-.94-2.06-.94 2.06-2.06.94zm-11 1L8.5 8.5l.94-2.06 2.06-.94-2.06-.94L8.5 2.5l-.94 2.06-2.06.94zm10 10l.94 2.06.94-2.06 2.06-.94-2.06-.94-.94-2.06-.94 2.06-2.06.94z\"/><path d=\"M17.41 7.96l-1.37-1.37c-.4-.4-.92-.59-1.43-.59-.52 0-1.04.2-1.43.59L10.3 9.45l-7.72 7.72c-.78.78-.78 2.05 0 2.83L4 21.41c.39.39.9.59 1.41.59.51 0 1.02-.2 1.41-.59l7.78-7.78 2.81-2.81c.8-.78.8-2.07 0-2.86zM5.41 20L4 18.59l7.72-7.72 1.47 1.35L5.41 20z\"/>\n",
              "  </svg>\n",
              "      </button>\n",
              "      \n",
              "  <style>\n",
              "    .colab-df-container {\n",
              "      display:flex;\n",
              "      flex-wrap:wrap;\n",
              "      gap: 12px;\n",
              "    }\n",
              "\n",
              "    .colab-df-convert {\n",
              "      background-color: #E8F0FE;\n",
              "      border: none;\n",
              "      border-radius: 50%;\n",
              "      cursor: pointer;\n",
              "      display: none;\n",
              "      fill: #1967D2;\n",
              "      height: 32px;\n",
              "      padding: 0 0 0 0;\n",
              "      width: 32px;\n",
              "    }\n",
              "\n",
              "    .colab-df-convert:hover {\n",
              "      background-color: #E2EBFA;\n",
              "      box-shadow: 0px 1px 2px rgba(60, 64, 67, 0.3), 0px 1px 3px 1px rgba(60, 64, 67, 0.15);\n",
              "      fill: #174EA6;\n",
              "    }\n",
              "\n",
              "    [theme=dark] .colab-df-convert {\n",
              "      background-color: #3B4455;\n",
              "      fill: #D2E3FC;\n",
              "    }\n",
              "\n",
              "    [theme=dark] .colab-df-convert:hover {\n",
              "      background-color: #434B5C;\n",
              "      box-shadow: 0px 1px 3px 1px rgba(0, 0, 0, 0.15);\n",
              "      filter: drop-shadow(0px 1px 2px rgba(0, 0, 0, 0.3));\n",
              "      fill: #FFFFFF;\n",
              "    }\n",
              "  </style>\n",
              "\n",
              "      <script>\n",
              "        const buttonEl =\n",
              "          document.querySelector('#df-76d89436-c59a-46e2-b0df-511aa507c512 button.colab-df-convert');\n",
              "        buttonEl.style.display =\n",
              "          google.colab.kernel.accessAllowed ? 'block' : 'none';\n",
              "\n",
              "        async function convertToInteractive(key) {\n",
              "          const element = document.querySelector('#df-76d89436-c59a-46e2-b0df-511aa507c512');\n",
              "          const dataTable =\n",
              "            await google.colab.kernel.invokeFunction('convertToInteractive',\n",
              "                                                     [key], {});\n",
              "          if (!dataTable) return;\n",
              "\n",
              "          const docLinkHtml = 'Like what you see? Visit the ' +\n",
              "            '<a target=\"_blank\" href=https://colab.research.google.com/notebooks/data_table.ipynb>data table notebook</a>'\n",
              "            + ' to learn more about interactive tables.';\n",
              "          element.innerHTML = '';\n",
              "          dataTable['output_type'] = 'display_data';\n",
              "          await google.colab.output.renderOutput(dataTable, element);\n",
              "          const docLink = document.createElement('div');\n",
              "          docLink.innerHTML = docLinkHtml;\n",
              "          element.appendChild(docLink);\n",
              "        }\n",
              "      </script>\n",
              "    </div>\n",
              "  </div>\n",
              "  "
            ]
          },
          "metadata": {},
          "execution_count": 47
        }
      ]
    },
    {
      "cell_type": "markdown",
      "source": [
        "## Линейная классификация"
      ],
      "metadata": {
        "id": "tqNLKj40FtMC"
      }
    },
    {
      "cell_type": "code",
      "source": [
        "y=analise['cluster']"
      ],
      "metadata": {
        "id": "14eUVlPOHjoz"
      },
      "execution_count": null,
      "outputs": []
    },
    {
      "cell_type": "code",
      "source": [
        "class_labels = np.unique(y)\n",
        "first_class_index = np.where(class_labels==-1)[0][0]\n",
        "class_weights = compute_class_weight(class_weight='balanced', classes=class_labels, y=y)\n",
        "class_weights[first_class_index] *= 0.99\n",
        "class_weight_dict = dict(zip(class_labels, class_weights))"
      ],
      "metadata": {
        "id": "19OSKseVqKW8"
      },
      "execution_count": null,
      "outputs": []
    },
    {
      "cell_type": "code",
      "source": [
        "X_train, X_test, y_train, y_test = train_test_split(X_scaled, y, test_size=0.1)"
      ],
      "metadata": {
        "id": "g1x_HPjsFweX"
      },
      "execution_count": null,
      "outputs": []
    },
    {
      "cell_type": "code",
      "source": [
        "model = LogisticRegression(max_iter=1000, solver='liblinear',class_weight=class_weight_dict)\n",
        "LG_model=model.fit(X_train, y_train)"
      ],
      "metadata": {
        "id": "WF5gpmiDGSf9"
      },
      "execution_count": null,
      "outputs": []
    },
    {
      "cell_type": "code",
      "source": [
        "predictions = LG_model.predict(X_test)"
      ],
      "metadata": {
        "id": "x5NJSDV9PNg-"
      },
      "execution_count": null,
      "outputs": []
    },
    {
      "cell_type": "code",
      "source": [
        "print('Accuracy score:', accuracy_score(y_test, predictions))"
      ],
      "metadata": {
        "colab": {
          "base_uri": "https://localhost:8080/"
        },
        "id": "9us0XQ5xJR16",
        "outputId": "17bb7df2-6418-45e5-9c59-388616b927ef"
      },
      "execution_count": null,
      "outputs": [
        {
          "output_type": "stream",
          "name": "stdout",
          "text": [
            "Accuracy score: 0.967468420141893\n"
          ]
        }
      ]
    },
    {
      "cell_type": "code",
      "source": [
        "predict_claster = LG_model.predict(test_test)\n",
        "print(predict_claster)"
      ],
      "metadata": {
        "colab": {
          "base_uri": "https://localhost:8080/"
        },
        "outputId": "ed8f4397-bbc5-4230-f1b7-87e151b66bff",
        "id": "AtW1NjMV48-A"
      },
      "execution_count": null,
      "outputs": [
        {
          "output_type": "stream",
          "name": "stdout",
          "text": [
            "[ 0  0  0 22]\n"
          ]
        }
      ]
    },
    {
      "cell_type": "markdown",
      "source": [
        "## Классификация K-ближайших соседей"
      ],
      "metadata": {
        "id": "y7UnO_mKuywt"
      }
    },
    {
      "cell_type": "code",
      "source": [
        "knn = KNeighborsClassifier(n_neighbors=5)\n",
        "knn.fit(X_train, y_train)\n",
        "\n",
        "y_pred = knn.predict(X_test)\n",
        "accuracy = accuracy_score(y_test, y_pred)\n",
        "print(\"Accuracy:\", accuracy)"
      ],
      "metadata": {
        "colab": {
          "base_uri": "https://localhost:8080/"
        },
        "id": "8Wh-W-jE7MJF",
        "outputId": "785de356-cb97-44ff-ee51-a1d95b0cc3d2"
      },
      "execution_count": null,
      "outputs": [
        {
          "output_type": "stream",
          "name": "stdout",
          "text": [
            "Accuracy: 0.997231354905693\n"
          ]
        }
      ]
    },
    {
      "cell_type": "code",
      "source": [
        "predict_claster = knn.predict(test_test)\n",
        "print(predict_claster)"
      ],
      "metadata": {
        "colab": {
          "base_uri": "https://localhost:8080/"
        },
        "id": "6cEYXDAHmSWe",
        "outputId": "b8d8165e-1705-409b-dbc0-6c95c007dcc7"
      },
      "execution_count": null,
      "outputs": [
        {
          "output_type": "stream",
          "name": "stdout",
          "text": [
            "[ 0  0  0 -1]\n"
          ]
        }
      ]
    },
    {
      "cell_type": "markdown",
      "source": [
        "## Классификация опорных векторов"
      ],
      "metadata": {
        "id": "HbObEBypMWxg"
      }
    },
    {
      "cell_type": "code",
      "source": [
        "svm = SVC(C=1.0, kernel='rbf', gamma='scale', class_weight='balanced')\n",
        "svm.fit(X_train, y_train)\n",
        "\n",
        "y_pred = svm.predict(X_test)\n",
        "accuracy = accuracy_score(y_test, y_pred)\n",
        "print(\"Accuracy:\", accuracy)"
      ],
      "metadata": {
        "colab": {
          "base_uri": "https://localhost:8080/"
        },
        "id": "7jkllyQh8x_v",
        "outputId": "c47a8d93-a44e-4b4a-f4e9-1c4ca83f8282"
      },
      "execution_count": null,
      "outputs": [
        {
          "output_type": "stream",
          "name": "stdout",
          "text": [
            "Accuracy: 0.9688527426890465\n"
          ]
        }
      ]
    },
    {
      "cell_type": "code",
      "source": [
        "predict_claster = svm.predict(test_test)\n",
        "print(predict_claster)"
      ],
      "metadata": {
        "colab": {
          "base_uri": "https://localhost:8080/"
        },
        "id": "896ggFfBmkUg",
        "outputId": "3af519f7-6c0d-442c-8304-f0f6427e07e8"
      },
      "execution_count": null,
      "outputs": [
        {
          "output_type": "stream",
          "name": "stdout",
          "text": [
            "[ 0  0  0 -1]\n"
          ]
        }
      ]
    },
    {
      "cell_type": "markdown",
      "source": [
        "## Классификация RandomForest"
      ],
      "metadata": {
        "id": "oskSxCTUMcv5"
      }
    },
    {
      "cell_type": "code",
      "source": [
        "rfc = RandomForestClassifier()\n",
        "param_grid = {'n_estimators': [10, 50, 100, 200], 'max_depth': [5, 10, 15, None],'max_features': ['sqrt', 'log2']}\n",
        "grid_search = GridSearchCV(estimator=rfc, param_grid=param_grid, cv=5, scoring='accuracy')\n",
        "grid_search.fit(X_train, y_train)\n",
        "best_params = grid_search.best_params_\n",
        "print(\"Best parameters:\", best_params)"
      ],
      "metadata": {
        "colab": {
          "base_uri": "https://localhost:8080/"
        },
        "id": "kKB1PrFQONmW",
        "outputId": "de29b367-813f-4d7b-e1d7-81c0f0b8ef65"
      },
      "execution_count": null,
      "outputs": [
        {
          "output_type": "stream",
          "name": "stderr",
          "text": [
            "/usr/local/lib/python3.10/dist-packages/sklearn/model_selection/_split.py:700: UserWarning: The least populated class in y has only 1 members, which is less than n_splits=5.\n",
            "  warnings.warn(\n"
          ]
        },
        {
          "output_type": "stream",
          "name": "stdout",
          "text": [
            "Best parameters: {'max_depth': None, 'max_features': 'log2', 'n_estimators': 50}\n"
          ]
        }
      ]
    },
    {
      "cell_type": "code",
      "source": [
        "results = grid_search.cv_results_\n",
        "mean_score = np.mean(results['mean_test_score'])\n",
        "std_score = np.std(results['std_test_score'])\n",
        "print(\"Mean accuracy: {:.2f} +/- {:.2f}\".format(mean_score, std_score))"
      ],
      "metadata": {
        "colab": {
          "base_uri": "https://localhost:8080/"
        },
        "id": "GtS2bqIYOoxF",
        "outputId": "94dce7aa-7fe0-4273-dbe7-b1a4d8842612"
      },
      "execution_count": null,
      "outputs": [
        {
          "output_type": "stream",
          "name": "stdout",
          "text": [
            "Mean accuracy: 1.00 +/- 0.00\n"
          ]
        }
      ]
    },
    {
      "cell_type": "code",
      "source": [
        "rfc = RandomForestClassifier(n_estimators=200)#class_weight='balanced')\n",
        "rfc.fit(X_train, y_train)\n",
        "\n",
        "accuracy = rfc.score(X_test, y_test)\n",
        "print(\"Test accuracy model: {:.2f}\".format(accuracy))\n",
        "\n",
        "y_pred = rfc.predict(X_test)\n",
        "print(\"Test accuracy predict: {:.2f}\".format(accuracy_score(y_test, y_pred)))"
      ],
      "metadata": {
        "colab": {
          "base_uri": "https://localhost:8080/"
        },
        "id": "ROLpFOlKOgsB",
        "outputId": "5ba4c96b-7ee3-41c2-fa21-5a4d74e32a86"
      },
      "execution_count": null,
      "outputs": [
        {
          "output_type": "stream",
          "name": "stdout",
          "text": [
            "Test accuracy model: 1.00\n",
            "Test accuracy predict: 1.00\n"
          ]
        }
      ]
    },
    {
      "cell_type": "code",
      "source": [
        "scores = cross_val_score(rfc, X_train, y_train, cv=5)\n",
        "mean_score = scores.mean()\n",
        "std_score = scores.std()\n",
        "print(\"Train accuracy cross-vall: {:.2f}\".format(mean_score,std_score))"
      ],
      "metadata": {
        "colab": {
          "base_uri": "https://localhost:8080/"
        },
        "id": "kDJEX2L_aThP",
        "outputId": "3196bb3a-ed8b-4409-c46f-8624d6178bd7"
      },
      "execution_count": null,
      "outputs": [
        {
          "output_type": "stream",
          "name": "stderr",
          "text": [
            "/usr/local/lib/python3.10/dist-packages/sklearn/model_selection/_split.py:700: UserWarning: The least populated class in y has only 1 members, which is less than n_splits=5.\n",
            "  warnings.warn(\n"
          ]
        },
        {
          "output_type": "stream",
          "name": "stdout",
          "text": [
            "Train accuracy cross-vall: 1.00\n"
          ]
        }
      ]
    },
    {
      "cell_type": "code",
      "source": [
        "predict_claster = rfc.predict(test_test)\n",
        "print(predict_claster)"
      ],
      "metadata": {
        "colab": {
          "base_uri": "https://localhost:8080/"
        },
        "id": "o2K48ipinOoV",
        "outputId": "0381528b-4ce4-49ce-ddf2-52e29eec0ab9"
      },
      "execution_count": null,
      "outputs": [
        {
          "output_type": "stream",
          "name": "stdout",
          "text": [
            "[ 0  0  0 -1]\n"
          ]
        }
      ]
    },
    {
      "cell_type": "markdown",
      "source": [
        "## RNN"
      ],
      "metadata": {
        "id": "m4cs9xeLECSG"
      }
    },
    {
      "cell_type": "code",
      "source": [
        "batch_size = 32\n",
        "epochs=50"
      ],
      "metadata": {
        "id": "CoMDLtpfRcrL"
      },
      "execution_count": null,
      "outputs": []
    },
    {
      "cell_type": "code",
      "source": [
        "Y=analise['cluster']\n",
        "Y_cat = tf.keras.utils.to_categorical(Y, 30)"
      ],
      "metadata": {
        "id": "k0d9BH6d9Omn"
      },
      "execution_count": null,
      "outputs": []
    },
    {
      "cell_type": "code",
      "source": [
        "model = Sequential()\n",
        "model.add(Dense(128, input_dim=4, activation='relu'))\n",
        "model.add(BatchNormalization())\n",
        "model.add(Dropout(0.3))\n",
        "model.add(Dense(30, activation='softmax'))\n",
        "model.compile(loss='categorical_crossentropy', optimizer='adam',metrics=['accuracy'])\n",
        "\n",
        "model.summary()"
      ],
      "metadata": {
        "colab": {
          "base_uri": "https://localhost:8080/"
        },
        "id": "SsUXl8OJQSFO",
        "outputId": "6139ad1e-07eb-4451-c203-264256b4259c"
      },
      "execution_count": null,
      "outputs": [
        {
          "output_type": "stream",
          "name": "stdout",
          "text": [
            "Model: \"sequential_5\"\n",
            "_________________________________________________________________\n",
            " Layer (type)                Output Shape              Param #   \n",
            "=================================================================\n",
            " dense_11 (Dense)            (None, 128)               640       \n",
            "                                                                 \n",
            " batch_normalization_6 (Batc  (None, 128)              512       \n",
            " hNormalization)                                                 \n",
            "                                                                 \n",
            " dropout_1 (Dropout)         (None, 128)               0         \n",
            "                                                                 \n",
            " dense_12 (Dense)            (None, 30)                3870      \n",
            "                                                                 \n",
            "=================================================================\n",
            "Total params: 5,022\n",
            "Trainable params: 4,766\n",
            "Non-trainable params: 256\n",
            "_________________________________________________________________\n"
          ]
        }
      ]
    },
    {
      "cell_type": "code",
      "source": [
        "history = model.fit(X_scaled, Y_cat, epochs=epochs, batch_size=batch_size, validation_split=0.2)"
      ],
      "metadata": {
        "colab": {
          "base_uri": "https://localhost:8080/"
        },
        "id": "Uk4tt7-6RtAl",
        "outputId": "a178b90f-9e05-4811-ddf8-2bb8faaffd92"
      },
      "execution_count": null,
      "outputs": [
        {
          "output_type": "stream",
          "name": "stdout",
          "text": [
            "Epoch 1/50\n",
            "1445/1445 [==============================] - 8s 5ms/step - loss: 0.3226 - accuracy: 0.9428 - val_loss: 0.0635 - val_accuracy: 0.9886\n",
            "Epoch 2/50\n",
            "1445/1445 [==============================] - 5s 3ms/step - loss: 0.0284 - accuracy: 0.9943 - val_loss: 0.0720 - val_accuracy: 0.9867\n",
            "Epoch 3/50\n",
            "1445/1445 [==============================] - 5s 3ms/step - loss: 0.0232 - accuracy: 0.9943 - val_loss: 0.0645 - val_accuracy: 0.9894\n",
            "Epoch 4/50\n",
            "1445/1445 [==============================] - 6s 4ms/step - loss: 0.0204 - accuracy: 0.9950 - val_loss: 0.0630 - val_accuracy: 0.9887\n",
            "Epoch 5/50\n",
            "1445/1445 [==============================] - 5s 3ms/step - loss: 0.0186 - accuracy: 0.9950 - val_loss: 0.0659 - val_accuracy: 0.9881\n",
            "Epoch 6/50\n",
            "1445/1445 [==============================] - 5s 3ms/step - loss: 0.0182 - accuracy: 0.9952 - val_loss: 0.0794 - val_accuracy: 0.9822\n",
            "Epoch 7/50\n",
            "1445/1445 [==============================] - 7s 5ms/step - loss: 0.0173 - accuracy: 0.9953 - val_loss: 0.0708 - val_accuracy: 0.9879\n",
            "Epoch 8/50\n",
            "1445/1445 [==============================] - 5s 4ms/step - loss: 0.0167 - accuracy: 0.9953 - val_loss: 0.0875 - val_accuracy: 0.9810\n",
            "Epoch 9/50\n",
            "1445/1445 [==============================] - 6s 4ms/step - loss: 0.0162 - accuracy: 0.9955 - val_loss: 0.0978 - val_accuracy: 0.9818\n",
            "Epoch 10/50\n",
            "1445/1445 [==============================] - 5s 3ms/step - loss: 0.0154 - accuracy: 0.9957 - val_loss: 0.0879 - val_accuracy: 0.9819\n",
            "Epoch 11/50\n",
            "1445/1445 [==============================] - 7s 5ms/step - loss: 0.0150 - accuracy: 0.9957 - val_loss: 0.0935 - val_accuracy: 0.9830\n",
            "Epoch 12/50\n",
            "1445/1445 [==============================] - 14s 10ms/step - loss: 0.0153 - accuracy: 0.9953 - val_loss: 0.0988 - val_accuracy: 0.9808\n",
            "Epoch 13/50\n",
            "1445/1445 [==============================] - 14s 10ms/step - loss: 0.0151 - accuracy: 0.9956 - val_loss: 0.1042 - val_accuracy: 0.9799\n",
            "Epoch 14/50\n",
            "1445/1445 [==============================] - 13s 9ms/step - loss: 0.0145 - accuracy: 0.9959 - val_loss: 0.1216 - val_accuracy: 0.9778\n",
            "Epoch 15/50\n",
            "1445/1445 [==============================] - 12s 8ms/step - loss: 0.0143 - accuracy: 0.9959 - val_loss: 0.0917 - val_accuracy: 0.9864\n",
            "Epoch 16/50\n",
            "1445/1445 [==============================] - 5s 3ms/step - loss: 0.0150 - accuracy: 0.9955 - val_loss: 0.1110 - val_accuracy: 0.9821\n",
            "Epoch 17/50\n",
            "1445/1445 [==============================] - 7s 5ms/step - loss: 0.0146 - accuracy: 0.9960 - val_loss: 0.1189 - val_accuracy: 0.9788\n",
            "Epoch 18/50\n",
            "1445/1445 [==============================] - 10s 7ms/step - loss: 0.0140 - accuracy: 0.9958 - val_loss: 0.1145 - val_accuracy: 0.9796\n",
            "Epoch 19/50\n",
            "1445/1445 [==============================] - 6s 4ms/step - loss: 0.0134 - accuracy: 0.9958 - val_loss: 0.1084 - val_accuracy: 0.9812\n",
            "Epoch 20/50\n",
            "1445/1445 [==============================] - 5s 3ms/step - loss: 0.0142 - accuracy: 0.9958 - val_loss: 0.1125 - val_accuracy: 0.9787\n",
            "Epoch 21/50\n",
            "1445/1445 [==============================] - 4s 3ms/step - loss: 0.0140 - accuracy: 0.9960 - val_loss: 0.1351 - val_accuracy: 0.9724\n",
            "Epoch 22/50\n",
            "1445/1445 [==============================] - 6s 4ms/step - loss: 0.0135 - accuracy: 0.9960 - val_loss: 0.1126 - val_accuracy: 0.9811\n",
            "Epoch 23/50\n",
            "1445/1445 [==============================] - 5s 3ms/step - loss: 0.0136 - accuracy: 0.9961 - val_loss: 0.1312 - val_accuracy: 0.9775\n",
            "Epoch 24/50\n",
            "1445/1445 [==============================] - 5s 3ms/step - loss: 0.0134 - accuracy: 0.9962 - val_loss: 0.1038 - val_accuracy: 0.9868\n",
            "Epoch 25/50\n",
            "1445/1445 [==============================] - 6s 4ms/step - loss: 0.0139 - accuracy: 0.9957 - val_loss: 0.1025 - val_accuracy: 0.9861\n",
            "Epoch 26/50\n",
            "1445/1445 [==============================] - 8s 5ms/step - loss: 0.0126 - accuracy: 0.9961 - val_loss: 0.1339 - val_accuracy: 0.9791\n",
            "Epoch 27/50\n",
            "1445/1445 [==============================] - 10s 7ms/step - loss: 0.0132 - accuracy: 0.9958 - val_loss: 0.1329 - val_accuracy: 0.9797\n",
            "Epoch 28/50\n",
            "1445/1445 [==============================] - 12s 8ms/step - loss: 0.0130 - accuracy: 0.9957 - val_loss: 0.1146 - val_accuracy: 0.9849\n",
            "Epoch 29/50\n",
            "1445/1445 [==============================] - 11s 8ms/step - loss: 0.0127 - accuracy: 0.9962 - val_loss: 0.1430 - val_accuracy: 0.9827\n",
            "Epoch 30/50\n",
            "1445/1445 [==============================] - 14s 9ms/step - loss: 0.0134 - accuracy: 0.9962 - val_loss: 0.1641 - val_accuracy: 0.9773\n",
            "Epoch 31/50\n",
            "1445/1445 [==============================] - 17s 12ms/step - loss: 0.0123 - accuracy: 0.9963 - val_loss: 0.1510 - val_accuracy: 0.9781\n",
            "Epoch 32/50\n",
            "1445/1445 [==============================] - 10s 7ms/step - loss: 0.0126 - accuracy: 0.9963 - val_loss: 0.1962 - val_accuracy: 0.9792\n",
            "Epoch 33/50\n",
            "1445/1445 [==============================] - 9s 6ms/step - loss: 0.0128 - accuracy: 0.9961 - val_loss: 0.1541 - val_accuracy: 0.9803\n",
            "Epoch 34/50\n",
            "1445/1445 [==============================] - 5s 4ms/step - loss: 0.0121 - accuracy: 0.9963 - val_loss: 0.1550 - val_accuracy: 0.9785\n",
            "Epoch 35/50\n",
            "1445/1445 [==============================] - 5s 3ms/step - loss: 0.0125 - accuracy: 0.9964 - val_loss: 0.1486 - val_accuracy: 0.9784\n",
            "Epoch 36/50\n",
            "1445/1445 [==============================] - 8s 6ms/step - loss: 0.0118 - accuracy: 0.9963 - val_loss: 0.1700 - val_accuracy: 0.9776\n",
            "Epoch 37/50\n",
            "1445/1445 [==============================] - 5s 4ms/step - loss: 0.0126 - accuracy: 0.9963 - val_loss: 0.2226 - val_accuracy: 0.9766\n",
            "Epoch 38/50\n",
            "1445/1445 [==============================] - 11s 7ms/step - loss: 0.0116 - accuracy: 0.9963 - val_loss: 0.2071 - val_accuracy: 0.9819\n",
            "Epoch 39/50\n",
            "1445/1445 [==============================] - 7s 5ms/step - loss: 0.0122 - accuracy: 0.9961 - val_loss: 0.2238 - val_accuracy: 0.9789\n",
            "Epoch 40/50\n",
            "1445/1445 [==============================] - 9s 6ms/step - loss: 0.0117 - accuracy: 0.9964 - val_loss: 0.2078 - val_accuracy: 0.9804\n",
            "Epoch 41/50\n",
            "1445/1445 [==============================] - 7s 5ms/step - loss: 0.0124 - accuracy: 0.9965 - val_loss: 0.1981 - val_accuracy: 0.9812\n",
            "Epoch 42/50\n",
            "1445/1445 [==============================] - 10s 7ms/step - loss: 0.0122 - accuracy: 0.9961 - val_loss: 0.2495 - val_accuracy: 0.9746\n",
            "Epoch 43/50\n",
            "1445/1445 [==============================] - 11s 8ms/step - loss: 0.0117 - accuracy: 0.9965 - val_loss: 0.2165 - val_accuracy: 0.9826\n",
            "Epoch 44/50\n",
            "1445/1445 [==============================] - 6s 4ms/step - loss: 0.0118 - accuracy: 0.9966 - val_loss: 0.2142 - val_accuracy: 0.9810\n",
            "Epoch 45/50\n",
            "1445/1445 [==============================] - 8s 6ms/step - loss: 0.0117 - accuracy: 0.9964 - val_loss: 0.2000 - val_accuracy: 0.9817\n",
            "Epoch 46/50\n",
            "1445/1445 [==============================] - 5s 3ms/step - loss: 0.0116 - accuracy: 0.9966 - val_loss: 0.1719 - val_accuracy: 0.9810\n",
            "Epoch 47/50\n",
            "1445/1445 [==============================] - 5s 3ms/step - loss: 0.0122 - accuracy: 0.9963 - val_loss: 0.1831 - val_accuracy: 0.9815\n",
            "Epoch 48/50\n",
            "1445/1445 [==============================] - 7s 5ms/step - loss: 0.0117 - accuracy: 0.9961 - val_loss: 0.1878 - val_accuracy: 0.9817\n",
            "Epoch 49/50\n",
            "1445/1445 [==============================] - 7s 5ms/step - loss: 0.0126 - accuracy: 0.9960 - val_loss: 0.1652 - val_accuracy: 0.9809\n",
            "Epoch 50/50\n",
            "1445/1445 [==============================] - 14s 10ms/step - loss: 0.0113 - accuracy: 0.9965 - val_loss: 0.2037 - val_accuracy: 0.9798\n"
          ]
        }
      ]
    },
    {
      "cell_type": "code",
      "execution_count": null,
      "metadata": {
        "colab": {
          "base_uri": "https://localhost:8080/"
        },
        "id": "bQBCE8a7EKsL",
        "outputId": "d03f4c70-76b6-40de-a507-6bd85c0a25e1"
      },
      "outputs": [
        {
          "output_type": "stream",
          "name": "stdout",
          "text": [
            "1806/1806 [==============================] - 4s 2ms/step - loss: 0.0347 - accuracy: 0.9950\n",
            "score: [0.03466052561998367, 0.9949818253517151]\n"
          ]
        }
      ],
      "source": [
        "score=model.evaluate(X_scaled, Y_cat,batch_size=batch_size) #X_test, y_test\n",
        "print('score:',score)"
      ]
    },
    {
      "cell_type": "code",
      "execution_count": null,
      "metadata": {
        "colab": {
          "base_uri": "https://localhost:8080/",
          "height": 449
        },
        "id": "Jo3AvShDEuVh",
        "outputId": "a1cac9fa-b09f-442c-95a5-061e7cd73c02"
      },
      "outputs": [
        {
          "output_type": "display_data",
          "data": {
            "text/plain": [
              "<Figure size 640x480 with 1 Axes>"
            ],
            "image/png": "[encoded data removed]"
          },
          "metadata": {}
        }
      ],
      "source": [
        "plt.plot(history.history['loss'],label='loss')\n",
        "plt.plot(history.history['val_loss'], label='val_loss')\n",
        "plt.xlabel('эпоха обучения')\n",
        "plt.ylabel('ошибка')\n",
        "plt.legend()\n",
        "plt.show()"
      ]
    },
    {
      "cell_type": "code",
      "source": [
        "plt.plot(history.history['accuracy'],label='accuracy')\n",
        "plt.plot(history.history['val_accuracy'], label='val_accuracy')\n",
        "plt.xlabel('эпоха обучения')\n",
        "plt.ylabel('аккуратность')\n",
        "plt.legend()\n",
        "plt.show()"
      ],
      "metadata": {
        "colab": {
          "base_uri": "https://localhost:8080/",
          "height": 449
        },
        "id": "6mSbesCtSUJ7",
        "outputId": "8a536d68-5e24-4a3c-e5f4-0244ae46483b"
      },
      "execution_count": null,
      "outputs": [
        {
          "output_type": "display_data",
          "data": {
            "text/plain": [
              "<Figure size 640x480 with 1 Axes>"
            ],
            "image/png": "[encoded data removed]"
          },
          "metadata": {}
        }
      ]
    },
    {
      "cell_type": "code",
      "source": [
        "np.argmax(model.predict([test_test]), axis=-1)"
      ],
      "metadata": {
        "colab": {
          "base_uri": "https://localhost:8080/"
        },
        "outputId": "6aa30ac6-ba2f-407c-e5d8-72ad5cdc46ae",
        "id": "bHnnhsOqJpne"
      },
      "execution_count": null,
      "outputs": [
        {
          "output_type": "stream",
          "name": "stdout",
          "text": [
            "1/1 [==============================] - 0s 37ms/step\n"
          ]
        },
        {
          "output_type": "execute_result",
          "data": {
            "text/plain": [
              "array([ 0,  0,  0, 29])"
            ]
          },
          "metadata": {},
          "execution_count": 116
        }
      ]
    },
    {
      "cell_type": "markdown",
      "source": [
        "# Сохранение модели и файлов"
      ],
      "metadata": {
        "id": "6Fn1Zi9nT8hY"
      }
    },
    {
      "cell_type": "code",
      "source": [
        "model.save(DIR+'эталонная_модель')"
      ],
      "metadata": {
        "id": "DnrfIn5wGmV6"
      },
      "execution_count": null,
      "outputs": []
    },
    {
      "cell_type": "code",
      "source": [
        "filename = DIR+'file_model.sav'\n",
        "pickle.dump({'factor': factor_dict, 'scaler': scaler}, open(filename, 'wb'))"
      ],
      "metadata": {
        "id": "1JDVDWD3T8ha"
      },
      "execution_count": null,
      "outputs": []
    },
    {
      "cell_type": "code",
      "source": [
        "predict_file = '''\n",
        "\n",
        "import tensorflow as tf\n",
        "import pickle\n",
        "import pandas as pd\n",
        "import numpy as np\n",
        "\n",
        "loaded_model=tf.keras.models.load_model(DIR+'эталонная_модель')\n",
        "loaded_data = pickle.load(open(DIR+'file_model.sav', 'rb'))\n",
        "\n",
        "def prediction_number_claster(our_data):\n",
        "  factor = loaded_data['factor']\n",
        "  scaler = loaded_data['scaler']\n",
        "  features = ['CLIENT_IP', 'CLIENT_USERAGENT','REQUEST_SIZE','RESPONSE_CODE']\n",
        "  our_data=our_data[features]\n",
        "  for f in features:\n",
        "    our_data[f] = pd.Categorical(our_data[f], categories=factor[f]['categories'])\n",
        "    our_data[f] = our_data[f].cat.codes\n",
        "  testscaled = scaler.transform(our_data)\n",
        "  predict_claster = np.argmax(loaded_model.predict([testscaled]), axis=-1)\n",
        "\n",
        "  return predict_claster\n",
        "'''\n",
        "\n",
        "\n",
        "with open(DIR+'predict.py', 'w') as file:\n",
        "    file.write(predict_file)"
      ],
      "metadata": {
        "id": "GPe-F1-FUwaN"
      },
      "execution_count": null,
      "outputs": []
    }
  ]
}